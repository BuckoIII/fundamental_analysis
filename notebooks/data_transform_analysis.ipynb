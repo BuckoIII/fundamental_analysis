{
 "cells": [
  {
   "cell_type": "code",
   "execution_count": 79,
   "id": "a3262b48",
   "metadata": {},
   "outputs": [],
   "source": [
    "import pandas as pd\n",
    "from pathlib import Path\n",
    "import plotly.express as px"
   ]
  },
  {
   "cell_type": "code",
   "execution_count": 8,
   "id": "624294a2",
   "metadata": {},
   "outputs": [],
   "source": [
    "# todo - data loader script\n",
    "#     [x] fix index (ticker instead of unnamed 0)\n",
    "#     [] get currency\n",
    "\n",
    "\n",
    "# todo - cleaning\n",
    "#     [] calculate metrics to script\n",
    "\n",
    "# todo - analysis\n",
    "#     [] 5/10 yr sales, fcf, div, sharecount growth\n",
    "#     [] 5/10 year roic\n",
    "\n",
    "# todo - dashboard\n",
    "#     [] top 10 for growth rates\n",
    "#     [] top 10 for roic\n",
    "#     [] top 10 for hindsight dcf valuation\n",
    "\n"
   ]
  },
  {
   "cell_type": "code",
   "execution_count": 88,
   "id": "59573c44",
   "metadata": {},
   "outputs": [],
   "source": [
    "# data processing functions\n",
    "def load_data():\n",
    "    # load data\n",
    "    data_path = Path(Path().absolute().parent, 'data', 'financials.csv')\n",
    "    df = pd.read_csv(data_path)\n",
    "\n",
    "    # drop empty columns\n",
    "    df = df[(df.period_end_date != '0')]\n",
    "\n",
    "    # rename columns\n",
    "    df.rename(columns={'Unnamed: 0':'ticker'}, inplace=True)\n",
    "\n",
    "    # extract month/yeat\n",
    "    df['period_end_year'] = df.period_end_date.str.split('-',expand=True)[0].astype('int64')\n",
    "    df['period_end_month'] = df.period_end_date.str.split('-',expand=True)[1].astype('int64')\n",
    "\n",
    "    # non int fileds to index \n",
    "    df = df.set_index(['ticker','period_end_date', 'period_end_month', 'period_end_year', 'period_end_price'])\n",
    "\n",
    "    # convert to mil\n",
    "    df = df / 1000000\n",
    "\n",
    "    # return columns\n",
    "    df = df.reset_index()\n",
    "\n",
    "    # calculate metrics\n",
    "    df['fcf'] = df.cf_cfo - df.cfi_ppe_net - df.cfi_intangibles_net\n",
    "    df['nopat'] = df.operating_income - df.interest_expense\n",
    "    df['tax_rate'] = abs(df.income_tax / df.nopat)\n",
    "    df['enterprise_value'] = df.market_cap + df.lt_debt + df.noncurrent_capital_leases + df.total_equity - df.cash_and_equiv\n",
    "    df['invested_capital'] = df.lt_debt + df.noncurrent_capital_leases + df.total_equity - df.cash_and_equiv\n",
    "    df['roic'] = (df.operating_income * (1 - df.tax_rate)) / df.invested_capital\n",
    "    df['ev/ic'] = df.enterprise_value / df.invested_capital\n",
    "    return df\n",
    "\n",
    "\n",
    "# calculate metrics functions\n",
    "\n",
    "def calc_gross_margin(df):\n",
    "    return df.groupby(['ticker', 'period_end_year']).apply(lambda x: x.gross_profit / x.revenue )\n",
    "\n",
    "\n",
    "def calc_operating_margin(df):\n",
    "    return df.groupby(['ticker', 'period_end_year']).apply(lambda x: x.operating_income / x.revenue )\n",
    "    \n",
    "\n",
    "def calc_net_margin(df):\n",
    "    return df.groupby(['ticker', 'period_end_year']).apply(lambda x: x.net_income / x.revenue )\n",
    "\n",
    "\n",
    "def calc_fcf_margin(df):\n",
    "    return df.groupby(['ticker', 'period_end_year']).apply(lambda x: x.fcf / x.revenue)\n",
    "\n",
    "\n",
    "def calc_pe_ratio(df):\n",
    "    return df.groupby(['ticker', 'period_end_year']).apply(lambda x: x.market_cap / x.net_income)\n",
    "\n",
    "\n",
    "def calc_fcf_yield(df):\n",
    "    return df.groupby(['ticker', 'period_end_year']).apply(lambda x: x.fcf / x.market_cap)\n",
    "\n",
    "\n",
    "def calc_roic(df):\n",
    "    return df.groupby(['ticker', 'period_end_year']).apply(lambda x: x.operating_income * (1 - x.tax_rate) / (x.lt_debt + x.noncurrent_capital_leases + x.total_equity - x.cash_and_equiv) )\n",
    "\n",
    "\n",
    "def calc_roe(df):\n",
    "    return df.groupby(['ticker', 'period_end_year']).apply(lambda x: x.net_income / x.total_assets )\n",
    "\n",
    "\n",
    "def calc_roa(df):\n",
    "    return df.groupby(['ticker', 'period_end_year']).apply(lambda x: x.net_income /  x.total_equity )\n",
    "\n",
    "\n",
    "def calc_roce(df):\n",
    "    return df.groupby(['ticker', 'period_end_year']).apply(lambda x: (x.net_income + x.income_tax + x.interest_expense) /  (x.total_assets - x.total_current_liabilities) )\n",
    "\n",
    "\n",
    "def calc_enterprise_value(df):\n",
    "    pass\n",
    "\n",
    "\n",
    "def calc_roic_wacc(df):\n",
    "    pass\n",
    "\n",
    "\n",
    "def calc_invested_capital_turnover(df):\n",
    "    pass\n",
    "\n",
    "\n",
    "def roic_minus_median_pct(df):\n",
    "    pass\n",
    "\n",
    "def calculate_metrics(df, metric_names, functions):\n",
    "    \n",
    "    temp_dict = dict(zip(metric_names, functions))\n",
    "    \n",
    "    metric_values = []\n",
    "    \n",
    "    for m, f in temp_dict.items():\n",
    "        metric_values.append(f(df))\n",
    "    \n",
    "    data = dict(zip(metric_names, metric_values))\n",
    "    m_df = pd.DataFrame(data).dropna()\n",
    "    m_df = m_df.reset_index().drop(columns=('level_2'))\n",
    "    \n",
    "    return m_df \n",
    "\n",
    "\n",
    "def get_calc_function_names(functions):\n",
    "    clean_names = []\n",
    "\n",
    "    for f in functions:\n",
    "\n",
    "        word_list = f.__name__.split('_')\n",
    "\n",
    "        name_words = []\n",
    "        for w in word_list:\n",
    "            if w != 'calc':\n",
    "                name_words.append(w)\n",
    "        clean_names.append('_'.join(name_words))\n",
    "    return clean_names\n"
   ]
  },
  {
   "cell_type": "code",
   "execution_count": 89,
   "id": "2bcf44cd",
   "metadata": {},
   "outputs": [],
   "source": [
    "# run\n",
    "\n",
    "df = load_data()\n",
    "\n",
    "\n",
    "calc_functions = [calc_gross_margin, calc_operating_margin, calc_net_margin, calc_fcf_margin, calc_pe_ratio, calc_fcf_yield, calc_roic, calc_roe, calc_roa, calc_roce]\n",
    "names = get_calc_function_names(calc_functions) \n",
    "\n",
    "m_df = calculate_metrics(df, names, calc_functions)\n"
   ]
  },
  {
   "cell_type": "code",
   "execution_count": 90,
   "id": "fc169a8f",
   "metadata": {},
   "outputs": [
    {
     "data": {
      "text/plain": [
       "(Index(['ticker', 'period_end_date', 'period_end_month', 'period_end_year',\n",
       "        'period_end_price', 'revenue', 'cogs', 'gross_profit', 'sga', 'rnd',\n",
       "        'operating_income', 'income_tax', 'interest_expense', 'net_income',\n",
       "        'shares_diluted', 'cash_and_equiv', 'receivables', 'inventories',\n",
       "        'total_current_assets', 'equity_and_other_investments', 'ppe_net',\n",
       "        'intangible_assets', 'goodwill', 'total_assets', 'accounts_payable',\n",
       "        'tax_payable', 'st_debt', 'total_current_liabilities', 'lt_debt',\n",
       "        'noncurrent_capital_leases', 'total_liabilities', 'retained_earnings',\n",
       "        'total_equity', 'cf_cfo', 'cfi_ppe_net', 'cfi_acquisitions_net',\n",
       "        'cfi_investment_net', 'cfi_intangibles_net', 'cff_common_stock_net',\n",
       "        'cff_debt_net', 'cff_dividend_paid', 'cf_cff', 'market_cap', 'fcf',\n",
       "        'nopat', 'tax_rate', 'enterprise_value', 'invested_capital', 'roic',\n",
       "        'ev/ic'],\n",
       "       dtype='object'),\n",
       " Index(['ticker', 'period_end_year', 'gross_margin', 'operating_margin',\n",
       "        'net_margin', 'fcf_margin', 'pe_ratio', 'fcf_yield', 'roic', 'roe',\n",
       "        'roa', 'roce'],\n",
       "       dtype='object'))"
      ]
     },
     "execution_count": 90,
     "metadata": {},
     "output_type": "execute_result"
    }
   ],
   "source": [
    "df.columns, m_df.columns"
   ]
  },
  {
   "cell_type": "code",
   "execution_count": 148,
   "id": "1a52f435",
   "metadata": {},
   "outputs": [
    {
     "data": {
      "application/vnd.plotly.v1+json": {
       "config": {
        "plotlyServerURL": "https://plot.ly"
       },
       "data": [
        {
         "hovertemplate": "roic=%{x}<br>ev/ic=%{y}<br>ticker=%{text}<extra></extra>",
         "legendgroup": "",
         "marker": {
          "color": "#636efa",
          "symbol": "circle"
         },
         "mode": "markers+text",
         "name": "",
         "orientation": "v",
         "showlegend": false,
         "text": [
          "ASC:LN",
          "ASC:LN",
          "ASC:LN",
          "ASC:LN",
          "ASC:LN",
          "ASC:LN",
          "BOO:LN",
          "BOO:LN",
          "BOO:LN",
          "BOO:LN",
          "BOO:LN",
          "BOO:LN",
          "AMZN:US",
          "AMZN:US",
          "AMZN:US",
          "AMZN:US",
          "AMZN:US",
          "AMZN:US",
          "COST:US",
          "COST:US",
          "COST:US",
          "COST:US",
          "COST:US",
          "COST:US",
          "ZLNDY:US",
          "ZLNDY:US",
          "ZLNDY:US",
          "ZLNDY:US",
          "ZLNDY:US",
          "ZLNDY:US"
         ],
         "type": "scatter",
         "x": [
          2.0258302583025833,
          0.502365930599369,
          0.20787274357898425,
          0.05965216275189321,
          0.17878260013990213,
          0.1272889201036642,
          0.7797438267529376,
          0.6052300095732353,
          0.4555658829249447,
          0.6823085628637484,
          0.6987824127480466,
          0.40797555063606333,
          0.19181531035129407,
          0.07688766935325309,
          0.25246021340311225,
          0.13908162995490256,
          0.14909673423976938,
          0.0934564127038265,
          0.18998369692640715,
          0.21576573151742512,
          0.24087837867430792,
          0.3009222648008577,
          0.25238817125680396,
          0.318608275418871,
          0.2881856291455988,
          0.24903090353155546,
          0.1272145370717951,
          0.10706454324657509,
          0.3487997660023521,
          0.2275365478819175
         ],
         "xaxis": "x",
         "y": [
          140.46047970479708,
          38.28689353312303,
          13.908705377429943,
          5.400691358024691,
          8.06093403979239,
          4.414342766575681,
          31.77756833487388,
          44.24085252179171,
          28.5985971557854,
          27.364546795352815,
          34.22581159151117,
          19.898414476021316,
          24.588285412819836,
          13.546900449981157,
          17.40869037023852,
          11.31953977100692,
          13.075025318601618,
          8.77025483014376,
          6.449382600276625,
          6.228700973599878,
          8.547469639453269,
          11.514756978253812,
          10.297376563636364,
          13.458020877182122,
          20.71892667664264,
          24.247492831173474,
          11.167896291619748,
          10.438728501957064,
          28.929150938595406,
          14.171802184248133
         ],
         "yaxis": "y"
        },
        {
         "hovertemplate": "<b>OLS trendline</b><br>ev/ic = 63.7569 * roic + -0.598926<br>R<sup>2</sup>=0.909160<br><br>roic=%{x}<br>ev/ic=%{y} <b>(trend)</b><extra></extra>",
         "legendgroup": "",
         "marker": {
          "color": "#636efa",
          "symbol": "circle"
         },
         "mode": "lines",
         "name": "",
         "showlegend": false,
         "type": "scatter",
         "x": [
          0.05965216275189321,
          0.07688766935325309,
          0.0934564127038265,
          0.10706454324657509,
          0.1272145370717951,
          0.1272889201036642,
          0.13908162995490256,
          0.14909673423976938,
          0.17878260013990213,
          0.18998369692640715,
          0.19181531035129407,
          0.20787274357898425,
          0.21576573151742512,
          0.2275365478819175,
          0.24087837867430792,
          0.24903090353155546,
          0.25238817125680396,
          0.25246021340311225,
          0.2881856291455988,
          0.3009222648008577,
          0.318608275418871,
          0.3487997660023521,
          0.40797555063606333,
          0.4555658829249447,
          0.502365930599369,
          0.6052300095732353,
          0.6823085628637484,
          0.6987824127480466,
          0.7797438267529376,
          2.0258302583025833
         ],
         "xaxis": "x",
         "y": [
          3.2043105437235453,
          4.303192824551938,
          5.359564354826647,
          6.22717642301188,
          7.511877342193956,
          7.516619772898534,
          8.268486265610377,
          8.907018157583913,
          10.799696613935748,
          11.513843698162624,
          11.63062167194013,
          12.654393659477854,
          13.157626015158108,
          13.908096647266191,
          14.758730271833496,
          15.278509894031284,
          15.492558839652734,
          15.497152022776508,
          17.774893387892444,
          18.586941653292826,
          19.71454666869424,
          21.639462181845854,
          25.41232611280636,
          28.446537644880554,
          31.43036308853135,
          37.98865675128888,
          42.90294551586451,
          43.95326693394536,
          49.11511481799693,
          128.5617090888349
         ],
         "yaxis": "y"
        }
       ],
       "layout": {
        "legend": {
         "tracegroupgap": 0
        },
        "margin": {
         "t": 60
        },
        "template": {
         "data": {
          "bar": [
           {
            "error_x": {
             "color": "#2a3f5f"
            },
            "error_y": {
             "color": "#2a3f5f"
            },
            "marker": {
             "line": {
              "color": "#E5ECF6",
              "width": 0.5
             },
             "pattern": {
              "fillmode": "overlay",
              "size": 10,
              "solidity": 0.2
             }
            },
            "type": "bar"
           }
          ],
          "barpolar": [
           {
            "marker": {
             "line": {
              "color": "#E5ECF6",
              "width": 0.5
             },
             "pattern": {
              "fillmode": "overlay",
              "size": 10,
              "solidity": 0.2
             }
            },
            "type": "barpolar"
           }
          ],
          "carpet": [
           {
            "aaxis": {
             "endlinecolor": "#2a3f5f",
             "gridcolor": "white",
             "linecolor": "white",
             "minorgridcolor": "white",
             "startlinecolor": "#2a3f5f"
            },
            "baxis": {
             "endlinecolor": "#2a3f5f",
             "gridcolor": "white",
             "linecolor": "white",
             "minorgridcolor": "white",
             "startlinecolor": "#2a3f5f"
            },
            "type": "carpet"
           }
          ],
          "choropleth": [
           {
            "colorbar": {
             "outlinewidth": 0,
             "ticks": ""
            },
            "type": "choropleth"
           }
          ],
          "contour": [
           {
            "colorbar": {
             "outlinewidth": 0,
             "ticks": ""
            },
            "colorscale": [
             [
              0,
              "#0d0887"
             ],
             [
              0.1111111111111111,
              "#46039f"
             ],
             [
              0.2222222222222222,
              "#7201a8"
             ],
             [
              0.3333333333333333,
              "#9c179e"
             ],
             [
              0.4444444444444444,
              "#bd3786"
             ],
             [
              0.5555555555555556,
              "#d8576b"
             ],
             [
              0.6666666666666666,
              "#ed7953"
             ],
             [
              0.7777777777777778,
              "#fb9f3a"
             ],
             [
              0.8888888888888888,
              "#fdca26"
             ],
             [
              1,
              "#f0f921"
             ]
            ],
            "type": "contour"
           }
          ],
          "contourcarpet": [
           {
            "colorbar": {
             "outlinewidth": 0,
             "ticks": ""
            },
            "type": "contourcarpet"
           }
          ],
          "heatmap": [
           {
            "colorbar": {
             "outlinewidth": 0,
             "ticks": ""
            },
            "colorscale": [
             [
              0,
              "#0d0887"
             ],
             [
              0.1111111111111111,
              "#46039f"
             ],
             [
              0.2222222222222222,
              "#7201a8"
             ],
             [
              0.3333333333333333,
              "#9c179e"
             ],
             [
              0.4444444444444444,
              "#bd3786"
             ],
             [
              0.5555555555555556,
              "#d8576b"
             ],
             [
              0.6666666666666666,
              "#ed7953"
             ],
             [
              0.7777777777777778,
              "#fb9f3a"
             ],
             [
              0.8888888888888888,
              "#fdca26"
             ],
             [
              1,
              "#f0f921"
             ]
            ],
            "type": "heatmap"
           }
          ],
          "heatmapgl": [
           {
            "colorbar": {
             "outlinewidth": 0,
             "ticks": ""
            },
            "colorscale": [
             [
              0,
              "#0d0887"
             ],
             [
              0.1111111111111111,
              "#46039f"
             ],
             [
              0.2222222222222222,
              "#7201a8"
             ],
             [
              0.3333333333333333,
              "#9c179e"
             ],
             [
              0.4444444444444444,
              "#bd3786"
             ],
             [
              0.5555555555555556,
              "#d8576b"
             ],
             [
              0.6666666666666666,
              "#ed7953"
             ],
             [
              0.7777777777777778,
              "#fb9f3a"
             ],
             [
              0.8888888888888888,
              "#fdca26"
             ],
             [
              1,
              "#f0f921"
             ]
            ],
            "type": "heatmapgl"
           }
          ],
          "histogram": [
           {
            "marker": {
             "pattern": {
              "fillmode": "overlay",
              "size": 10,
              "solidity": 0.2
             }
            },
            "type": "histogram"
           }
          ],
          "histogram2d": [
           {
            "colorbar": {
             "outlinewidth": 0,
             "ticks": ""
            },
            "colorscale": [
             [
              0,
              "#0d0887"
             ],
             [
              0.1111111111111111,
              "#46039f"
             ],
             [
              0.2222222222222222,
              "#7201a8"
             ],
             [
              0.3333333333333333,
              "#9c179e"
             ],
             [
              0.4444444444444444,
              "#bd3786"
             ],
             [
              0.5555555555555556,
              "#d8576b"
             ],
             [
              0.6666666666666666,
              "#ed7953"
             ],
             [
              0.7777777777777778,
              "#fb9f3a"
             ],
             [
              0.8888888888888888,
              "#fdca26"
             ],
             [
              1,
              "#f0f921"
             ]
            ],
            "type": "histogram2d"
           }
          ],
          "histogram2dcontour": [
           {
            "colorbar": {
             "outlinewidth": 0,
             "ticks": ""
            },
            "colorscale": [
             [
              0,
              "#0d0887"
             ],
             [
              0.1111111111111111,
              "#46039f"
             ],
             [
              0.2222222222222222,
              "#7201a8"
             ],
             [
              0.3333333333333333,
              "#9c179e"
             ],
             [
              0.4444444444444444,
              "#bd3786"
             ],
             [
              0.5555555555555556,
              "#d8576b"
             ],
             [
              0.6666666666666666,
              "#ed7953"
             ],
             [
              0.7777777777777778,
              "#fb9f3a"
             ],
             [
              0.8888888888888888,
              "#fdca26"
             ],
             [
              1,
              "#f0f921"
             ]
            ],
            "type": "histogram2dcontour"
           }
          ],
          "mesh3d": [
           {
            "colorbar": {
             "outlinewidth": 0,
             "ticks": ""
            },
            "type": "mesh3d"
           }
          ],
          "parcoords": [
           {
            "line": {
             "colorbar": {
              "outlinewidth": 0,
              "ticks": ""
             }
            },
            "type": "parcoords"
           }
          ],
          "pie": [
           {
            "automargin": true,
            "type": "pie"
           }
          ],
          "scatter": [
           {
            "fillpattern": {
             "fillmode": "overlay",
             "size": 10,
             "solidity": 0.2
            },
            "type": "scatter"
           }
          ],
          "scatter3d": [
           {
            "line": {
             "colorbar": {
              "outlinewidth": 0,
              "ticks": ""
             }
            },
            "marker": {
             "colorbar": {
              "outlinewidth": 0,
              "ticks": ""
             }
            },
            "type": "scatter3d"
           }
          ],
          "scattercarpet": [
           {
            "marker": {
             "colorbar": {
              "outlinewidth": 0,
              "ticks": ""
             }
            },
            "type": "scattercarpet"
           }
          ],
          "scattergeo": [
           {
            "marker": {
             "colorbar": {
              "outlinewidth": 0,
              "ticks": ""
             }
            },
            "type": "scattergeo"
           }
          ],
          "scattergl": [
           {
            "marker": {
             "colorbar": {
              "outlinewidth": 0,
              "ticks": ""
             }
            },
            "type": "scattergl"
           }
          ],
          "scattermapbox": [
           {
            "marker": {
             "colorbar": {
              "outlinewidth": 0,
              "ticks": ""
             }
            },
            "type": "scattermapbox"
           }
          ],
          "scatterpolar": [
           {
            "marker": {
             "colorbar": {
              "outlinewidth": 0,
              "ticks": ""
             }
            },
            "type": "scatterpolar"
           }
          ],
          "scatterpolargl": [
           {
            "marker": {
             "colorbar": {
              "outlinewidth": 0,
              "ticks": ""
             }
            },
            "type": "scatterpolargl"
           }
          ],
          "scatterternary": [
           {
            "marker": {
             "colorbar": {
              "outlinewidth": 0,
              "ticks": ""
             }
            },
            "type": "scatterternary"
           }
          ],
          "surface": [
           {
            "colorbar": {
             "outlinewidth": 0,
             "ticks": ""
            },
            "colorscale": [
             [
              0,
              "#0d0887"
             ],
             [
              0.1111111111111111,
              "#46039f"
             ],
             [
              0.2222222222222222,
              "#7201a8"
             ],
             [
              0.3333333333333333,
              "#9c179e"
             ],
             [
              0.4444444444444444,
              "#bd3786"
             ],
             [
              0.5555555555555556,
              "#d8576b"
             ],
             [
              0.6666666666666666,
              "#ed7953"
             ],
             [
              0.7777777777777778,
              "#fb9f3a"
             ],
             [
              0.8888888888888888,
              "#fdca26"
             ],
             [
              1,
              "#f0f921"
             ]
            ],
            "type": "surface"
           }
          ],
          "table": [
           {
            "cells": {
             "fill": {
              "color": "#EBF0F8"
             },
             "line": {
              "color": "white"
             }
            },
            "header": {
             "fill": {
              "color": "#C8D4E3"
             },
             "line": {
              "color": "white"
             }
            },
            "type": "table"
           }
          ]
         },
         "layout": {
          "annotationdefaults": {
           "arrowcolor": "#2a3f5f",
           "arrowhead": 0,
           "arrowwidth": 1
          },
          "autotypenumbers": "strict",
          "coloraxis": {
           "colorbar": {
            "outlinewidth": 0,
            "ticks": ""
           }
          },
          "colorscale": {
           "diverging": [
            [
             0,
             "#8e0152"
            ],
            [
             0.1,
             "#c51b7d"
            ],
            [
             0.2,
             "#de77ae"
            ],
            [
             0.3,
             "#f1b6da"
            ],
            [
             0.4,
             "#fde0ef"
            ],
            [
             0.5,
             "#f7f7f7"
            ],
            [
             0.6,
             "#e6f5d0"
            ],
            [
             0.7,
             "#b8e186"
            ],
            [
             0.8,
             "#7fbc41"
            ],
            [
             0.9,
             "#4d9221"
            ],
            [
             1,
             "#276419"
            ]
           ],
           "sequential": [
            [
             0,
             "#0d0887"
            ],
            [
             0.1111111111111111,
             "#46039f"
            ],
            [
             0.2222222222222222,
             "#7201a8"
            ],
            [
             0.3333333333333333,
             "#9c179e"
            ],
            [
             0.4444444444444444,
             "#bd3786"
            ],
            [
             0.5555555555555556,
             "#d8576b"
            ],
            [
             0.6666666666666666,
             "#ed7953"
            ],
            [
             0.7777777777777778,
             "#fb9f3a"
            ],
            [
             0.8888888888888888,
             "#fdca26"
            ],
            [
             1,
             "#f0f921"
            ]
           ],
           "sequentialminus": [
            [
             0,
             "#0d0887"
            ],
            [
             0.1111111111111111,
             "#46039f"
            ],
            [
             0.2222222222222222,
             "#7201a8"
            ],
            [
             0.3333333333333333,
             "#9c179e"
            ],
            [
             0.4444444444444444,
             "#bd3786"
            ],
            [
             0.5555555555555556,
             "#d8576b"
            ],
            [
             0.6666666666666666,
             "#ed7953"
            ],
            [
             0.7777777777777778,
             "#fb9f3a"
            ],
            [
             0.8888888888888888,
             "#fdca26"
            ],
            [
             1,
             "#f0f921"
            ]
           ]
          },
          "colorway": [
           "#636efa",
           "#EF553B",
           "#00cc96",
           "#ab63fa",
           "#FFA15A",
           "#19d3f3",
           "#FF6692",
           "#B6E880",
           "#FF97FF",
           "#FECB52"
          ],
          "font": {
           "color": "#2a3f5f"
          },
          "geo": {
           "bgcolor": "white",
           "lakecolor": "white",
           "landcolor": "#E5ECF6",
           "showlakes": true,
           "showland": true,
           "subunitcolor": "white"
          },
          "hoverlabel": {
           "align": "left"
          },
          "hovermode": "closest",
          "mapbox": {
           "style": "light"
          },
          "paper_bgcolor": "white",
          "plot_bgcolor": "#E5ECF6",
          "polar": {
           "angularaxis": {
            "gridcolor": "white",
            "linecolor": "white",
            "ticks": ""
           },
           "bgcolor": "#E5ECF6",
           "radialaxis": {
            "gridcolor": "white",
            "linecolor": "white",
            "ticks": ""
           }
          },
          "scene": {
           "xaxis": {
            "backgroundcolor": "#E5ECF6",
            "gridcolor": "white",
            "gridwidth": 2,
            "linecolor": "white",
            "showbackground": true,
            "ticks": "",
            "zerolinecolor": "white"
           },
           "yaxis": {
            "backgroundcolor": "#E5ECF6",
            "gridcolor": "white",
            "gridwidth": 2,
            "linecolor": "white",
            "showbackground": true,
            "ticks": "",
            "zerolinecolor": "white"
           },
           "zaxis": {
            "backgroundcolor": "#E5ECF6",
            "gridcolor": "white",
            "gridwidth": 2,
            "linecolor": "white",
            "showbackground": true,
            "ticks": "",
            "zerolinecolor": "white"
           }
          },
          "shapedefaults": {
           "line": {
            "color": "#2a3f5f"
           }
          },
          "ternary": {
           "aaxis": {
            "gridcolor": "white",
            "linecolor": "white",
            "ticks": ""
           },
           "baxis": {
            "gridcolor": "white",
            "linecolor": "white",
            "ticks": ""
           },
           "bgcolor": "#E5ECF6",
           "caxis": {
            "gridcolor": "white",
            "linecolor": "white",
            "ticks": ""
           }
          },
          "title": {
           "x": 0.05
          },
          "xaxis": {
           "automargin": true,
           "gridcolor": "white",
           "linecolor": "white",
           "ticks": "",
           "title": {
            "standoff": 15
           },
           "zerolinecolor": "white",
           "zerolinewidth": 2
          },
          "yaxis": {
           "automargin": true,
           "gridcolor": "white",
           "linecolor": "white",
           "ticks": "",
           "title": {
            "standoff": 15
           },
           "zerolinecolor": "white",
           "zerolinewidth": 2
          }
         }
        },
        "xaxis": {
         "anchor": "y",
         "domain": [
          0,
          1
         ],
         "title": {
          "text": "roic"
         }
        },
        "yaxis": {
         "anchor": "x",
         "domain": [
          0,
          1
         ],
         "title": {
          "text": "ev/ic"
         }
        }
       }
      },
      "text/html": [
       "<div>                            <div id=\"356638ca-9672-4b85-90c8-253af2bada0a\" class=\"plotly-graph-div\" style=\"height:525px; width:100%;\"></div>            <script type=\"text/javascript\">                require([\"plotly\"], function(Plotly) {                    window.PLOTLYENV=window.PLOTLYENV || {};                                    if (document.getElementById(\"356638ca-9672-4b85-90c8-253af2bada0a\")) {                    Plotly.newPlot(                        \"356638ca-9672-4b85-90c8-253af2bada0a\",                        [{\"hovertemplate\":\"roic=%{x}<br>ev/ic=%{y}<br>ticker=%{text}<extra></extra>\",\"legendgroup\":\"\",\"marker\":{\"color\":\"#636efa\",\"symbol\":\"circle\"},\"mode\":\"markers+text\",\"name\":\"\",\"orientation\":\"v\",\"showlegend\":false,\"text\":[\"ASC:LN\",\"ASC:LN\",\"ASC:LN\",\"ASC:LN\",\"ASC:LN\",\"ASC:LN\",\"BOO:LN\",\"BOO:LN\",\"BOO:LN\",\"BOO:LN\",\"BOO:LN\",\"BOO:LN\",\"AMZN:US\",\"AMZN:US\",\"AMZN:US\",\"AMZN:US\",\"AMZN:US\",\"AMZN:US\",\"COST:US\",\"COST:US\",\"COST:US\",\"COST:US\",\"COST:US\",\"COST:US\",\"ZLNDY:US\",\"ZLNDY:US\",\"ZLNDY:US\",\"ZLNDY:US\",\"ZLNDY:US\",\"ZLNDY:US\"],\"x\":[2.0258302583025833,0.502365930599369,0.20787274357898425,0.05965216275189321,0.17878260013990213,0.1272889201036642,0.7797438267529376,0.6052300095732353,0.4555658829249447,0.6823085628637484,0.6987824127480466,0.40797555063606333,0.19181531035129407,0.07688766935325309,0.25246021340311225,0.13908162995490256,0.14909673423976938,0.0934564127038265,0.18998369692640715,0.21576573151742512,0.24087837867430792,0.3009222648008577,0.25238817125680396,0.318608275418871,0.2881856291455988,0.24903090353155546,0.1272145370717951,0.10706454324657509,0.3487997660023521,0.2275365478819175],\"xaxis\":\"x\",\"y\":[140.46047970479708,38.28689353312303,13.908705377429943,5.400691358024691,8.06093403979239,4.414342766575681,31.77756833487388,44.24085252179171,28.5985971557854,27.364546795352815,34.22581159151117,19.898414476021316,24.588285412819836,13.546900449981157,17.40869037023852,11.31953977100692,13.075025318601618,8.77025483014376,6.449382600276625,6.228700973599878,8.547469639453269,11.514756978253812,10.297376563636364,13.458020877182122,20.71892667664264,24.247492831173474,11.167896291619748,10.438728501957064,28.929150938595406,14.171802184248133],\"yaxis\":\"y\",\"type\":\"scatter\"},{\"hovertemplate\":\"<b>OLS trendline</b><br>ev/ic = 63.7569 * roic + -0.598926<br>R<sup>2</sup>=0.909160<br><br>roic=%{x}<br>ev/ic=%{y} <b>(trend)</b><extra></extra>\",\"legendgroup\":\"\",\"marker\":{\"color\":\"#636efa\",\"symbol\":\"circle\"},\"mode\":\"lines\",\"name\":\"\",\"showlegend\":false,\"x\":[0.05965216275189321,0.07688766935325309,0.0934564127038265,0.10706454324657509,0.1272145370717951,0.1272889201036642,0.13908162995490256,0.14909673423976938,0.17878260013990213,0.18998369692640715,0.19181531035129407,0.20787274357898425,0.21576573151742512,0.2275365478819175,0.24087837867430792,0.24903090353155546,0.25238817125680396,0.25246021340311225,0.2881856291455988,0.3009222648008577,0.318608275418871,0.3487997660023521,0.40797555063606333,0.4555658829249447,0.502365930599369,0.6052300095732353,0.6823085628637484,0.6987824127480466,0.7797438267529376,2.0258302583025833],\"xaxis\":\"x\",\"y\":[3.2043105437235453,4.303192824551938,5.359564354826647,6.22717642301188,7.511877342193956,7.516619772898534,8.268486265610377,8.907018157583913,10.799696613935748,11.513843698162624,11.63062167194013,12.654393659477854,13.157626015158108,13.908096647266191,14.758730271833496,15.278509894031284,15.492558839652734,15.497152022776508,17.774893387892444,18.586941653292826,19.71454666869424,21.639462181845854,25.41232611280636,28.446537644880554,31.43036308853135,37.98865675128888,42.90294551586451,43.95326693394536,49.11511481799693,128.5617090888349],\"yaxis\":\"y\",\"type\":\"scatter\"}],                        {\"template\":{\"data\":{\"histogram2dcontour\":[{\"type\":\"histogram2dcontour\",\"colorbar\":{\"outlinewidth\":0,\"ticks\":\"\"},\"colorscale\":[[0.0,\"#0d0887\"],[0.1111111111111111,\"#46039f\"],[0.2222222222222222,\"#7201a8\"],[0.3333333333333333,\"#9c179e\"],[0.4444444444444444,\"#bd3786\"],[0.5555555555555556,\"#d8576b\"],[0.6666666666666666,\"#ed7953\"],[0.7777777777777778,\"#fb9f3a\"],[0.8888888888888888,\"#fdca26\"],[1.0,\"#f0f921\"]]}],\"choropleth\":[{\"type\":\"choropleth\",\"colorbar\":{\"outlinewidth\":0,\"ticks\":\"\"}}],\"histogram2d\":[{\"type\":\"histogram2d\",\"colorbar\":{\"outlinewidth\":0,\"ticks\":\"\"},\"colorscale\":[[0.0,\"#0d0887\"],[0.1111111111111111,\"#46039f\"],[0.2222222222222222,\"#7201a8\"],[0.3333333333333333,\"#9c179e\"],[0.4444444444444444,\"#bd3786\"],[0.5555555555555556,\"#d8576b\"],[0.6666666666666666,\"#ed7953\"],[0.7777777777777778,\"#fb9f3a\"],[0.8888888888888888,\"#fdca26\"],[1.0,\"#f0f921\"]]}],\"heatmap\":[{\"type\":\"heatmap\",\"colorbar\":{\"outlinewidth\":0,\"ticks\":\"\"},\"colorscale\":[[0.0,\"#0d0887\"],[0.1111111111111111,\"#46039f\"],[0.2222222222222222,\"#7201a8\"],[0.3333333333333333,\"#9c179e\"],[0.4444444444444444,\"#bd3786\"],[0.5555555555555556,\"#d8576b\"],[0.6666666666666666,\"#ed7953\"],[0.7777777777777778,\"#fb9f3a\"],[0.8888888888888888,\"#fdca26\"],[1.0,\"#f0f921\"]]}],\"heatmapgl\":[{\"type\":\"heatmapgl\",\"colorbar\":{\"outlinewidth\":0,\"ticks\":\"\"},\"colorscale\":[[0.0,\"#0d0887\"],[0.1111111111111111,\"#46039f\"],[0.2222222222222222,\"#7201a8\"],[0.3333333333333333,\"#9c179e\"],[0.4444444444444444,\"#bd3786\"],[0.5555555555555556,\"#d8576b\"],[0.6666666666666666,\"#ed7953\"],[0.7777777777777778,\"#fb9f3a\"],[0.8888888888888888,\"#fdca26\"],[1.0,\"#f0f921\"]]}],\"contourcarpet\":[{\"type\":\"contourcarpet\",\"colorbar\":{\"outlinewidth\":0,\"ticks\":\"\"}}],\"contour\":[{\"type\":\"contour\",\"colorbar\":{\"outlinewidth\":0,\"ticks\":\"\"},\"colorscale\":[[0.0,\"#0d0887\"],[0.1111111111111111,\"#46039f\"],[0.2222222222222222,\"#7201a8\"],[0.3333333333333333,\"#9c179e\"],[0.4444444444444444,\"#bd3786\"],[0.5555555555555556,\"#d8576b\"],[0.6666666666666666,\"#ed7953\"],[0.7777777777777778,\"#fb9f3a\"],[0.8888888888888888,\"#fdca26\"],[1.0,\"#f0f921\"]]}],\"surface\":[{\"type\":\"surface\",\"colorbar\":{\"outlinewidth\":0,\"ticks\":\"\"},\"colorscale\":[[0.0,\"#0d0887\"],[0.1111111111111111,\"#46039f\"],[0.2222222222222222,\"#7201a8\"],[0.3333333333333333,\"#9c179e\"],[0.4444444444444444,\"#bd3786\"],[0.5555555555555556,\"#d8576b\"],[0.6666666666666666,\"#ed7953\"],[0.7777777777777778,\"#fb9f3a\"],[0.8888888888888888,\"#fdca26\"],[1.0,\"#f0f921\"]]}],\"mesh3d\":[{\"type\":\"mesh3d\",\"colorbar\":{\"outlinewidth\":0,\"ticks\":\"\"}}],\"scatter\":[{\"fillpattern\":{\"fillmode\":\"overlay\",\"size\":10,\"solidity\":0.2},\"type\":\"scatter\"}],\"parcoords\":[{\"type\":\"parcoords\",\"line\":{\"colorbar\":{\"outlinewidth\":0,\"ticks\":\"\"}}}],\"scatterpolargl\":[{\"type\":\"scatterpolargl\",\"marker\":{\"colorbar\":{\"outlinewidth\":0,\"ticks\":\"\"}}}],\"bar\":[{\"error_x\":{\"color\":\"#2a3f5f\"},\"error_y\":{\"color\":\"#2a3f5f\"},\"marker\":{\"line\":{\"color\":\"#E5ECF6\",\"width\":0.5},\"pattern\":{\"fillmode\":\"overlay\",\"size\":10,\"solidity\":0.2}},\"type\":\"bar\"}],\"scattergeo\":[{\"type\":\"scattergeo\",\"marker\":{\"colorbar\":{\"outlinewidth\":0,\"ticks\":\"\"}}}],\"scatterpolar\":[{\"type\":\"scatterpolar\",\"marker\":{\"colorbar\":{\"outlinewidth\":0,\"ticks\":\"\"}}}],\"histogram\":[{\"marker\":{\"pattern\":{\"fillmode\":\"overlay\",\"size\":10,\"solidity\":0.2}},\"type\":\"histogram\"}],\"scattergl\":[{\"type\":\"scattergl\",\"marker\":{\"colorbar\":{\"outlinewidth\":0,\"ticks\":\"\"}}}],\"scatter3d\":[{\"type\":\"scatter3d\",\"line\":{\"colorbar\":{\"outlinewidth\":0,\"ticks\":\"\"}},\"marker\":{\"colorbar\":{\"outlinewidth\":0,\"ticks\":\"\"}}}],\"scattermapbox\":[{\"type\":\"scattermapbox\",\"marker\":{\"colorbar\":{\"outlinewidth\":0,\"ticks\":\"\"}}}],\"scatterternary\":[{\"type\":\"scatterternary\",\"marker\":{\"colorbar\":{\"outlinewidth\":0,\"ticks\":\"\"}}}],\"scattercarpet\":[{\"type\":\"scattercarpet\",\"marker\":{\"colorbar\":{\"outlinewidth\":0,\"ticks\":\"\"}}}],\"carpet\":[{\"aaxis\":{\"endlinecolor\":\"#2a3f5f\",\"gridcolor\":\"white\",\"linecolor\":\"white\",\"minorgridcolor\":\"white\",\"startlinecolor\":\"#2a3f5f\"},\"baxis\":{\"endlinecolor\":\"#2a3f5f\",\"gridcolor\":\"white\",\"linecolor\":\"white\",\"minorgridcolor\":\"white\",\"startlinecolor\":\"#2a3f5f\"},\"type\":\"carpet\"}],\"table\":[{\"cells\":{\"fill\":{\"color\":\"#EBF0F8\"},\"line\":{\"color\":\"white\"}},\"header\":{\"fill\":{\"color\":\"#C8D4E3\"},\"line\":{\"color\":\"white\"}},\"type\":\"table\"}],\"barpolar\":[{\"marker\":{\"line\":{\"color\":\"#E5ECF6\",\"width\":0.5},\"pattern\":{\"fillmode\":\"overlay\",\"size\":10,\"solidity\":0.2}},\"type\":\"barpolar\"}],\"pie\":[{\"automargin\":true,\"type\":\"pie\"}]},\"layout\":{\"autotypenumbers\":\"strict\",\"colorway\":[\"#636efa\",\"#EF553B\",\"#00cc96\",\"#ab63fa\",\"#FFA15A\",\"#19d3f3\",\"#FF6692\",\"#B6E880\",\"#FF97FF\",\"#FECB52\"],\"font\":{\"color\":\"#2a3f5f\"},\"hovermode\":\"closest\",\"hoverlabel\":{\"align\":\"left\"},\"paper_bgcolor\":\"white\",\"plot_bgcolor\":\"#E5ECF6\",\"polar\":{\"bgcolor\":\"#E5ECF6\",\"angularaxis\":{\"gridcolor\":\"white\",\"linecolor\":\"white\",\"ticks\":\"\"},\"radialaxis\":{\"gridcolor\":\"white\",\"linecolor\":\"white\",\"ticks\":\"\"}},\"ternary\":{\"bgcolor\":\"#E5ECF6\",\"aaxis\":{\"gridcolor\":\"white\",\"linecolor\":\"white\",\"ticks\":\"\"},\"baxis\":{\"gridcolor\":\"white\",\"linecolor\":\"white\",\"ticks\":\"\"},\"caxis\":{\"gridcolor\":\"white\",\"linecolor\":\"white\",\"ticks\":\"\"}},\"coloraxis\":{\"colorbar\":{\"outlinewidth\":0,\"ticks\":\"\"}},\"colorscale\":{\"sequential\":[[0.0,\"#0d0887\"],[0.1111111111111111,\"#46039f\"],[0.2222222222222222,\"#7201a8\"],[0.3333333333333333,\"#9c179e\"],[0.4444444444444444,\"#bd3786\"],[0.5555555555555556,\"#d8576b\"],[0.6666666666666666,\"#ed7953\"],[0.7777777777777778,\"#fb9f3a\"],[0.8888888888888888,\"#fdca26\"],[1.0,\"#f0f921\"]],\"sequentialminus\":[[0.0,\"#0d0887\"],[0.1111111111111111,\"#46039f\"],[0.2222222222222222,\"#7201a8\"],[0.3333333333333333,\"#9c179e\"],[0.4444444444444444,\"#bd3786\"],[0.5555555555555556,\"#d8576b\"],[0.6666666666666666,\"#ed7953\"],[0.7777777777777778,\"#fb9f3a\"],[0.8888888888888888,\"#fdca26\"],[1.0,\"#f0f921\"]],\"diverging\":[[0,\"#8e0152\"],[0.1,\"#c51b7d\"],[0.2,\"#de77ae\"],[0.3,\"#f1b6da\"],[0.4,\"#fde0ef\"],[0.5,\"#f7f7f7\"],[0.6,\"#e6f5d0\"],[0.7,\"#b8e186\"],[0.8,\"#7fbc41\"],[0.9,\"#4d9221\"],[1,\"#276419\"]]},\"xaxis\":{\"gridcolor\":\"white\",\"linecolor\":\"white\",\"ticks\":\"\",\"title\":{\"standoff\":15},\"zerolinecolor\":\"white\",\"automargin\":true,\"zerolinewidth\":2},\"yaxis\":{\"gridcolor\":\"white\",\"linecolor\":\"white\",\"ticks\":\"\",\"title\":{\"standoff\":15},\"zerolinecolor\":\"white\",\"automargin\":true,\"zerolinewidth\":2},\"scene\":{\"xaxis\":{\"backgroundcolor\":\"#E5ECF6\",\"gridcolor\":\"white\",\"linecolor\":\"white\",\"showbackground\":true,\"ticks\":\"\",\"zerolinecolor\":\"white\",\"gridwidth\":2},\"yaxis\":{\"backgroundcolor\":\"#E5ECF6\",\"gridcolor\":\"white\",\"linecolor\":\"white\",\"showbackground\":true,\"ticks\":\"\",\"zerolinecolor\":\"white\",\"gridwidth\":2},\"zaxis\":{\"backgroundcolor\":\"#E5ECF6\",\"gridcolor\":\"white\",\"linecolor\":\"white\",\"showbackground\":true,\"ticks\":\"\",\"zerolinecolor\":\"white\",\"gridwidth\":2}},\"shapedefaults\":{\"line\":{\"color\":\"#2a3f5f\"}},\"annotationdefaults\":{\"arrowcolor\":\"#2a3f5f\",\"arrowhead\":0,\"arrowwidth\":1},\"geo\":{\"bgcolor\":\"white\",\"landcolor\":\"#E5ECF6\",\"subunitcolor\":\"white\",\"showland\":true,\"showlakes\":true,\"lakecolor\":\"white\"},\"title\":{\"x\":0.05},\"mapbox\":{\"style\":\"light\"}}},\"xaxis\":{\"anchor\":\"y\",\"domain\":[0.0,1.0],\"title\":{\"text\":\"roic\"}},\"yaxis\":{\"anchor\":\"x\",\"domain\":[0.0,1.0],\"title\":{\"text\":\"ev/ic\"}},\"legend\":{\"tracegroupgap\":0},\"margin\":{\"t\":60}},                        {\"responsive\": true}                    ).then(function(){\n",
       "                            \n",
       "var gd = document.getElementById('356638ca-9672-4b85-90c8-253af2bada0a');\n",
       "var x = new MutationObserver(function (mutations, observer) {{\n",
       "        var display = window.getComputedStyle(gd).display;\n",
       "        if (!display || display === 'none') {{\n",
       "            console.log([gd, 'removed!']);\n",
       "            Plotly.purge(gd);\n",
       "            observer.disconnect();\n",
       "        }}\n",
       "}});\n",
       "\n",
       "// Listen for the removal of the full notebook cells\n",
       "var notebookContainer = gd.closest('#notebook-container');\n",
       "if (notebookContainer) {{\n",
       "    x.observe(notebookContainer, {childList: true});\n",
       "}}\n",
       "\n",
       "// Listen for the clearing of the current output cell\n",
       "var outputEl = gd.closest('.output');\n",
       "if (outputEl) {{\n",
       "    x.observe(outputEl, {childList: true});\n",
       "}}\n",
       "\n",
       "                        })                };                });            </script>        </div>"
      ]
     },
     "metadata": {},
     "output_type": "display_data"
    }
   ],
   "source": [
    "import numpy as np\n",
    "\n",
    "filt = (df['ev/ic'] < df['ev/ic'].std()*1.5) & (df.roic > 0) & (df.period_end_year > 2015)\n",
    "px.scatter(df[filt], x='roic' , y='ev/ic', trendline='ols', text='ticker')\n"
   ]
  },
  {
   "cell_type": "code",
   "execution_count": 134,
   "id": "10d8a429",
   "metadata": {},
   "outputs": [
    {
     "data": {
      "text/html": [
       "<div>\n",
       "<style scoped>\n",
       "    .dataframe tbody tr th:only-of-type {\n",
       "        vertical-align: middle;\n",
       "    }\n",
       "\n",
       "    .dataframe tbody tr th {\n",
       "        vertical-align: top;\n",
       "    }\n",
       "\n",
       "    .dataframe thead th {\n",
       "        text-align: right;\n",
       "    }\n",
       "</style>\n",
       "<table border=\"1\" class=\"dataframe\">\n",
       "  <thead>\n",
       "    <tr style=\"text-align: right;\">\n",
       "      <th></th>\n",
       "      <th>ticker</th>\n",
       "      <th>period_end_date</th>\n",
       "      <th>period_end_month</th>\n",
       "      <th>period_end_year</th>\n",
       "      <th>period_end_price</th>\n",
       "      <th>revenue</th>\n",
       "      <th>cogs</th>\n",
       "      <th>gross_profit</th>\n",
       "      <th>sga</th>\n",
       "      <th>rnd</th>\n",
       "      <th>...</th>\n",
       "      <th>cff_debt_net</th>\n",
       "      <th>cff_dividend_paid</th>\n",
       "      <th>cf_cff</th>\n",
       "      <th>market_cap</th>\n",
       "      <th>fcf</th>\n",
       "      <th>nopat</th>\n",
       "      <th>tax_rate</th>\n",
       "      <th>enterprise_value</th>\n",
       "      <th>invested_capital</th>\n",
       "      <th>ev/ic</th>\n",
       "    </tr>\n",
       "    <tr>\n",
       "      <th>roic</th>\n",
       "      <th></th>\n",
       "      <th></th>\n",
       "      <th></th>\n",
       "      <th></th>\n",
       "      <th></th>\n",
       "      <th></th>\n",
       "      <th></th>\n",
       "      <th></th>\n",
       "      <th></th>\n",
       "      <th></th>\n",
       "      <th></th>\n",
       "      <th></th>\n",
       "      <th></th>\n",
       "      <th></th>\n",
       "      <th></th>\n",
       "      <th></th>\n",
       "      <th></th>\n",
       "      <th></th>\n",
       "      <th></th>\n",
       "      <th></th>\n",
       "      <th></th>\n",
       "    </tr>\n",
       "  </thead>\n",
       "  <tbody>\n",
       "    <tr>\n",
       "      <th>0.1</th>\n",
       "      <td>8</td>\n",
       "      <td>8</td>\n",
       "      <td>8</td>\n",
       "      <td>8</td>\n",
       "      <td>8</td>\n",
       "      <td>8</td>\n",
       "      <td>8</td>\n",
       "      <td>8</td>\n",
       "      <td>8</td>\n",
       "      <td>8</td>\n",
       "      <td>...</td>\n",
       "      <td>8</td>\n",
       "      <td>8</td>\n",
       "      <td>8</td>\n",
       "      <td>8</td>\n",
       "      <td>8</td>\n",
       "      <td>8</td>\n",
       "      <td>8</td>\n",
       "      <td>8</td>\n",
       "      <td>8</td>\n",
       "      <td>8</td>\n",
       "    </tr>\n",
       "    <tr>\n",
       "      <th>0.2</th>\n",
       "      <td>8</td>\n",
       "      <td>8</td>\n",
       "      <td>8</td>\n",
       "      <td>8</td>\n",
       "      <td>8</td>\n",
       "      <td>8</td>\n",
       "      <td>8</td>\n",
       "      <td>8</td>\n",
       "      <td>8</td>\n",
       "      <td>8</td>\n",
       "      <td>...</td>\n",
       "      <td>8</td>\n",
       "      <td>8</td>\n",
       "      <td>8</td>\n",
       "      <td>8</td>\n",
       "      <td>8</td>\n",
       "      <td>8</td>\n",
       "      <td>8</td>\n",
       "      <td>8</td>\n",
       "      <td>8</td>\n",
       "      <td>8</td>\n",
       "    </tr>\n",
       "    <tr>\n",
       "      <th>0.3</th>\n",
       "      <td>6</td>\n",
       "      <td>6</td>\n",
       "      <td>6</td>\n",
       "      <td>6</td>\n",
       "      <td>6</td>\n",
       "      <td>6</td>\n",
       "      <td>6</td>\n",
       "      <td>6</td>\n",
       "      <td>6</td>\n",
       "      <td>6</td>\n",
       "      <td>...</td>\n",
       "      <td>6</td>\n",
       "      <td>6</td>\n",
       "      <td>6</td>\n",
       "      <td>6</td>\n",
       "      <td>6</td>\n",
       "      <td>6</td>\n",
       "      <td>6</td>\n",
       "      <td>6</td>\n",
       "      <td>6</td>\n",
       "      <td>6</td>\n",
       "    </tr>\n",
       "    <tr>\n",
       "      <th>0.4</th>\n",
       "      <td>1</td>\n",
       "      <td>1</td>\n",
       "      <td>1</td>\n",
       "      <td>1</td>\n",
       "      <td>1</td>\n",
       "      <td>1</td>\n",
       "      <td>1</td>\n",
       "      <td>1</td>\n",
       "      <td>1</td>\n",
       "      <td>1</td>\n",
       "      <td>...</td>\n",
       "      <td>1</td>\n",
       "      <td>1</td>\n",
       "      <td>1</td>\n",
       "      <td>1</td>\n",
       "      <td>1</td>\n",
       "      <td>1</td>\n",
       "      <td>1</td>\n",
       "      <td>1</td>\n",
       "      <td>1</td>\n",
       "      <td>1</td>\n",
       "    </tr>\n",
       "    <tr>\n",
       "      <th>0.5</th>\n",
       "      <td>2</td>\n",
       "      <td>2</td>\n",
       "      <td>2</td>\n",
       "      <td>2</td>\n",
       "      <td>2</td>\n",
       "      <td>2</td>\n",
       "      <td>2</td>\n",
       "      <td>2</td>\n",
       "      <td>2</td>\n",
       "      <td>2</td>\n",
       "      <td>...</td>\n",
       "      <td>2</td>\n",
       "      <td>2</td>\n",
       "      <td>2</td>\n",
       "      <td>2</td>\n",
       "      <td>2</td>\n",
       "      <td>2</td>\n",
       "      <td>2</td>\n",
       "      <td>2</td>\n",
       "      <td>2</td>\n",
       "      <td>2</td>\n",
       "    </tr>\n",
       "    <tr>\n",
       "      <th>0.6</th>\n",
       "      <td>1</td>\n",
       "      <td>1</td>\n",
       "      <td>1</td>\n",
       "      <td>1</td>\n",
       "      <td>1</td>\n",
       "      <td>1</td>\n",
       "      <td>1</td>\n",
       "      <td>1</td>\n",
       "      <td>1</td>\n",
       "      <td>1</td>\n",
       "      <td>...</td>\n",
       "      <td>1</td>\n",
       "      <td>1</td>\n",
       "      <td>1</td>\n",
       "      <td>1</td>\n",
       "      <td>1</td>\n",
       "      <td>1</td>\n",
       "      <td>1</td>\n",
       "      <td>1</td>\n",
       "      <td>1</td>\n",
       "      <td>1</td>\n",
       "    </tr>\n",
       "    <tr>\n",
       "      <th>0.7</th>\n",
       "      <td>2</td>\n",
       "      <td>2</td>\n",
       "      <td>2</td>\n",
       "      <td>2</td>\n",
       "      <td>2</td>\n",
       "      <td>2</td>\n",
       "      <td>2</td>\n",
       "      <td>2</td>\n",
       "      <td>2</td>\n",
       "      <td>2</td>\n",
       "      <td>...</td>\n",
       "      <td>2</td>\n",
       "      <td>2</td>\n",
       "      <td>2</td>\n",
       "      <td>2</td>\n",
       "      <td>2</td>\n",
       "      <td>2</td>\n",
       "      <td>2</td>\n",
       "      <td>2</td>\n",
       "      <td>2</td>\n",
       "      <td>2</td>\n",
       "    </tr>\n",
       "    <tr>\n",
       "      <th>0.8</th>\n",
       "      <td>1</td>\n",
       "      <td>1</td>\n",
       "      <td>1</td>\n",
       "      <td>1</td>\n",
       "      <td>1</td>\n",
       "      <td>1</td>\n",
       "      <td>1</td>\n",
       "      <td>1</td>\n",
       "      <td>1</td>\n",
       "      <td>1</td>\n",
       "      <td>...</td>\n",
       "      <td>1</td>\n",
       "      <td>1</td>\n",
       "      <td>1</td>\n",
       "      <td>1</td>\n",
       "      <td>1</td>\n",
       "      <td>1</td>\n",
       "      <td>1</td>\n",
       "      <td>1</td>\n",
       "      <td>1</td>\n",
       "      <td>1</td>\n",
       "    </tr>\n",
       "    <tr>\n",
       "      <th>2.0</th>\n",
       "      <td>1</td>\n",
       "      <td>1</td>\n",
       "      <td>1</td>\n",
       "      <td>1</td>\n",
       "      <td>1</td>\n",
       "      <td>1</td>\n",
       "      <td>1</td>\n",
       "      <td>1</td>\n",
       "      <td>1</td>\n",
       "      <td>1</td>\n",
       "      <td>...</td>\n",
       "      <td>1</td>\n",
       "      <td>1</td>\n",
       "      <td>1</td>\n",
       "      <td>1</td>\n",
       "      <td>1</td>\n",
       "      <td>1</td>\n",
       "      <td>1</td>\n",
       "      <td>1</td>\n",
       "      <td>1</td>\n",
       "      <td>1</td>\n",
       "    </tr>\n",
       "  </tbody>\n",
       "</table>\n",
       "<p>9 rows × 49 columns</p>\n",
       "</div>"
      ],
      "text/plain": [
       "      ticker  period_end_date  period_end_month  period_end_year  \\\n",
       "roic                                                               \n",
       "0.1        8                8                 8                8   \n",
       "0.2        8                8                 8                8   \n",
       "0.3        6                6                 6                6   \n",
       "0.4        1                1                 1                1   \n",
       "0.5        2                2                 2                2   \n",
       "0.6        1                1                 1                1   \n",
       "0.7        2                2                 2                2   \n",
       "0.8        1                1                 1                1   \n",
       "2.0        1                1                 1                1   \n",
       "\n",
       "      period_end_price  revenue  cogs  gross_profit  sga  rnd  ...  \\\n",
       "roic                                                           ...   \n",
       "0.1                  8        8     8             8    8    8  ...   \n",
       "0.2                  8        8     8             8    8    8  ...   \n",
       "0.3                  6        6     6             6    6    6  ...   \n",
       "0.4                  1        1     1             1    1    1  ...   \n",
       "0.5                  2        2     2             2    2    2  ...   \n",
       "0.6                  1        1     1             1    1    1  ...   \n",
       "0.7                  2        2     2             2    2    2  ...   \n",
       "0.8                  1        1     1             1    1    1  ...   \n",
       "2.0                  1        1     1             1    1    1  ...   \n",
       "\n",
       "      cff_debt_net  cff_dividend_paid  cf_cff  market_cap  fcf  nopat  \\\n",
       "roic                                                                    \n",
       "0.1              8                  8       8           8    8      8   \n",
       "0.2              8                  8       8           8    8      8   \n",
       "0.3              6                  6       6           6    6      6   \n",
       "0.4              1                  1       1           1    1      1   \n",
       "0.5              2                  2       2           2    2      2   \n",
       "0.6              1                  1       1           1    1      1   \n",
       "0.7              2                  2       2           2    2      2   \n",
       "0.8              1                  1       1           1    1      1   \n",
       "2.0              1                  1       1           1    1      1   \n",
       "\n",
       "      tax_rate  enterprise_value  invested_capital  ev/ic  \n",
       "roic                                                       \n",
       "0.1          8                 8                 8      8  \n",
       "0.2          8                 8                 8      8  \n",
       "0.3          6                 6                 6      6  \n",
       "0.4          1                 1                 1      1  \n",
       "0.5          2                 2                 2      2  \n",
       "0.6          1                 1                 1      1  \n",
       "0.7          2                 2                 2      2  \n",
       "0.8          1                 1                 1      1  \n",
       "2.0          1                 1                 1      1  \n",
       "\n",
       "[9 rows x 49 columns]"
      ]
     },
     "execution_count": 134,
     "metadata": {},
     "output_type": "execute_result"
    }
   ],
   "source": []
  },
  {
   "cell_type": "code",
   "execution_count": 144,
   "id": "b64519a3",
   "metadata": {},
   "outputs": [
    {
     "data": {
      "application/vnd.plotly.v1+json": {
       "config": {
        "plotlyServerURL": "https://plot.ly"
       },
       "data": [
        {
         "hovertemplate": "roic=%{x}<br>index=%{y}<extra></extra>",
         "legendgroup": "",
         "marker": {
          "color": "#636efa",
          "symbol": "circle"
         },
         "mode": "markers",
         "name": "",
         "orientation": "h",
         "showlegend": false,
         "type": "scatter",
         "x": [
          2,
          0.5,
          0.2,
          0.1,
          0.2,
          0.1,
          0.8,
          0.6,
          0.5,
          0.7,
          0.7,
          0.4,
          0.2,
          0.1,
          0.3,
          0.1,
          0.1,
          0.1,
          0.2,
          0.2,
          0.2,
          0.3,
          0.3,
          0.3,
          0.3,
          0.2,
          0.1,
          0.1,
          0.3,
          0.2
         ],
         "xaxis": "x",
         "y": [
          14,
          15,
          16,
          17,
          18,
          19,
          23,
          24,
          25,
          26,
          27,
          28,
          44,
          45,
          46,
          47,
          48,
          49,
          64,
          65,
          66,
          67,
          68,
          69,
          76,
          77,
          78,
          79,
          80,
          81
         ],
         "yaxis": "y"
        }
       ],
       "layout": {
        "legend": {
         "tracegroupgap": 0
        },
        "margin": {
         "t": 60
        },
        "template": {
         "data": {
          "bar": [
           {
            "error_x": {
             "color": "#2a3f5f"
            },
            "error_y": {
             "color": "#2a3f5f"
            },
            "marker": {
             "line": {
              "color": "#E5ECF6",
              "width": 0.5
             },
             "pattern": {
              "fillmode": "overlay",
              "size": 10,
              "solidity": 0.2
             }
            },
            "type": "bar"
           }
          ],
          "barpolar": [
           {
            "marker": {
             "line": {
              "color": "#E5ECF6",
              "width": 0.5
             },
             "pattern": {
              "fillmode": "overlay",
              "size": 10,
              "solidity": 0.2
             }
            },
            "type": "barpolar"
           }
          ],
          "carpet": [
           {
            "aaxis": {
             "endlinecolor": "#2a3f5f",
             "gridcolor": "white",
             "linecolor": "white",
             "minorgridcolor": "white",
             "startlinecolor": "#2a3f5f"
            },
            "baxis": {
             "endlinecolor": "#2a3f5f",
             "gridcolor": "white",
             "linecolor": "white",
             "minorgridcolor": "white",
             "startlinecolor": "#2a3f5f"
            },
            "type": "carpet"
           }
          ],
          "choropleth": [
           {
            "colorbar": {
             "outlinewidth": 0,
             "ticks": ""
            },
            "type": "choropleth"
           }
          ],
          "contour": [
           {
            "colorbar": {
             "outlinewidth": 0,
             "ticks": ""
            },
            "colorscale": [
             [
              0,
              "#0d0887"
             ],
             [
              0.1111111111111111,
              "#46039f"
             ],
             [
              0.2222222222222222,
              "#7201a8"
             ],
             [
              0.3333333333333333,
              "#9c179e"
             ],
             [
              0.4444444444444444,
              "#bd3786"
             ],
             [
              0.5555555555555556,
              "#d8576b"
             ],
             [
              0.6666666666666666,
              "#ed7953"
             ],
             [
              0.7777777777777778,
              "#fb9f3a"
             ],
             [
              0.8888888888888888,
              "#fdca26"
             ],
             [
              1,
              "#f0f921"
             ]
            ],
            "type": "contour"
           }
          ],
          "contourcarpet": [
           {
            "colorbar": {
             "outlinewidth": 0,
             "ticks": ""
            },
            "type": "contourcarpet"
           }
          ],
          "heatmap": [
           {
            "colorbar": {
             "outlinewidth": 0,
             "ticks": ""
            },
            "colorscale": [
             [
              0,
              "#0d0887"
             ],
             [
              0.1111111111111111,
              "#46039f"
             ],
             [
              0.2222222222222222,
              "#7201a8"
             ],
             [
              0.3333333333333333,
              "#9c179e"
             ],
             [
              0.4444444444444444,
              "#bd3786"
             ],
             [
              0.5555555555555556,
              "#d8576b"
             ],
             [
              0.6666666666666666,
              "#ed7953"
             ],
             [
              0.7777777777777778,
              "#fb9f3a"
             ],
             [
              0.8888888888888888,
              "#fdca26"
             ],
             [
              1,
              "#f0f921"
             ]
            ],
            "type": "heatmap"
           }
          ],
          "heatmapgl": [
           {
            "colorbar": {
             "outlinewidth": 0,
             "ticks": ""
            },
            "colorscale": [
             [
              0,
              "#0d0887"
             ],
             [
              0.1111111111111111,
              "#46039f"
             ],
             [
              0.2222222222222222,
              "#7201a8"
             ],
             [
              0.3333333333333333,
              "#9c179e"
             ],
             [
              0.4444444444444444,
              "#bd3786"
             ],
             [
              0.5555555555555556,
              "#d8576b"
             ],
             [
              0.6666666666666666,
              "#ed7953"
             ],
             [
              0.7777777777777778,
              "#fb9f3a"
             ],
             [
              0.8888888888888888,
              "#fdca26"
             ],
             [
              1,
              "#f0f921"
             ]
            ],
            "type": "heatmapgl"
           }
          ],
          "histogram": [
           {
            "marker": {
             "pattern": {
              "fillmode": "overlay",
              "size": 10,
              "solidity": 0.2
             }
            },
            "type": "histogram"
           }
          ],
          "histogram2d": [
           {
            "colorbar": {
             "outlinewidth": 0,
             "ticks": ""
            },
            "colorscale": [
             [
              0,
              "#0d0887"
             ],
             [
              0.1111111111111111,
              "#46039f"
             ],
             [
              0.2222222222222222,
              "#7201a8"
             ],
             [
              0.3333333333333333,
              "#9c179e"
             ],
             [
              0.4444444444444444,
              "#bd3786"
             ],
             [
              0.5555555555555556,
              "#d8576b"
             ],
             [
              0.6666666666666666,
              "#ed7953"
             ],
             [
              0.7777777777777778,
              "#fb9f3a"
             ],
             [
              0.8888888888888888,
              "#fdca26"
             ],
             [
              1,
              "#f0f921"
             ]
            ],
            "type": "histogram2d"
           }
          ],
          "histogram2dcontour": [
           {
            "colorbar": {
             "outlinewidth": 0,
             "ticks": ""
            },
            "colorscale": [
             [
              0,
              "#0d0887"
             ],
             [
              0.1111111111111111,
              "#46039f"
             ],
             [
              0.2222222222222222,
              "#7201a8"
             ],
             [
              0.3333333333333333,
              "#9c179e"
             ],
             [
              0.4444444444444444,
              "#bd3786"
             ],
             [
              0.5555555555555556,
              "#d8576b"
             ],
             [
              0.6666666666666666,
              "#ed7953"
             ],
             [
              0.7777777777777778,
              "#fb9f3a"
             ],
             [
              0.8888888888888888,
              "#fdca26"
             ],
             [
              1,
              "#f0f921"
             ]
            ],
            "type": "histogram2dcontour"
           }
          ],
          "mesh3d": [
           {
            "colorbar": {
             "outlinewidth": 0,
             "ticks": ""
            },
            "type": "mesh3d"
           }
          ],
          "parcoords": [
           {
            "line": {
             "colorbar": {
              "outlinewidth": 0,
              "ticks": ""
             }
            },
            "type": "parcoords"
           }
          ],
          "pie": [
           {
            "automargin": true,
            "type": "pie"
           }
          ],
          "scatter": [
           {
            "fillpattern": {
             "fillmode": "overlay",
             "size": 10,
             "solidity": 0.2
            },
            "type": "scatter"
           }
          ],
          "scatter3d": [
           {
            "line": {
             "colorbar": {
              "outlinewidth": 0,
              "ticks": ""
             }
            },
            "marker": {
             "colorbar": {
              "outlinewidth": 0,
              "ticks": ""
             }
            },
            "type": "scatter3d"
           }
          ],
          "scattercarpet": [
           {
            "marker": {
             "colorbar": {
              "outlinewidth": 0,
              "ticks": ""
             }
            },
            "type": "scattercarpet"
           }
          ],
          "scattergeo": [
           {
            "marker": {
             "colorbar": {
              "outlinewidth": 0,
              "ticks": ""
             }
            },
            "type": "scattergeo"
           }
          ],
          "scattergl": [
           {
            "marker": {
             "colorbar": {
              "outlinewidth": 0,
              "ticks": ""
             }
            },
            "type": "scattergl"
           }
          ],
          "scattermapbox": [
           {
            "marker": {
             "colorbar": {
              "outlinewidth": 0,
              "ticks": ""
             }
            },
            "type": "scattermapbox"
           }
          ],
          "scatterpolar": [
           {
            "marker": {
             "colorbar": {
              "outlinewidth": 0,
              "ticks": ""
             }
            },
            "type": "scatterpolar"
           }
          ],
          "scatterpolargl": [
           {
            "marker": {
             "colorbar": {
              "outlinewidth": 0,
              "ticks": ""
             }
            },
            "type": "scatterpolargl"
           }
          ],
          "scatterternary": [
           {
            "marker": {
             "colorbar": {
              "outlinewidth": 0,
              "ticks": ""
             }
            },
            "type": "scatterternary"
           }
          ],
          "surface": [
           {
            "colorbar": {
             "outlinewidth": 0,
             "ticks": ""
            },
            "colorscale": [
             [
              0,
              "#0d0887"
             ],
             [
              0.1111111111111111,
              "#46039f"
             ],
             [
              0.2222222222222222,
              "#7201a8"
             ],
             [
              0.3333333333333333,
              "#9c179e"
             ],
             [
              0.4444444444444444,
              "#bd3786"
             ],
             [
              0.5555555555555556,
              "#d8576b"
             ],
             [
              0.6666666666666666,
              "#ed7953"
             ],
             [
              0.7777777777777778,
              "#fb9f3a"
             ],
             [
              0.8888888888888888,
              "#fdca26"
             ],
             [
              1,
              "#f0f921"
             ]
            ],
            "type": "surface"
           }
          ],
          "table": [
           {
            "cells": {
             "fill": {
              "color": "#EBF0F8"
             },
             "line": {
              "color": "white"
             }
            },
            "header": {
             "fill": {
              "color": "#C8D4E3"
             },
             "line": {
              "color": "white"
             }
            },
            "type": "table"
           }
          ]
         },
         "layout": {
          "annotationdefaults": {
           "arrowcolor": "#2a3f5f",
           "arrowhead": 0,
           "arrowwidth": 1
          },
          "autotypenumbers": "strict",
          "coloraxis": {
           "colorbar": {
            "outlinewidth": 0,
            "ticks": ""
           }
          },
          "colorscale": {
           "diverging": [
            [
             0,
             "#8e0152"
            ],
            [
             0.1,
             "#c51b7d"
            ],
            [
             0.2,
             "#de77ae"
            ],
            [
             0.3,
             "#f1b6da"
            ],
            [
             0.4,
             "#fde0ef"
            ],
            [
             0.5,
             "#f7f7f7"
            ],
            [
             0.6,
             "#e6f5d0"
            ],
            [
             0.7,
             "#b8e186"
            ],
            [
             0.8,
             "#7fbc41"
            ],
            [
             0.9,
             "#4d9221"
            ],
            [
             1,
             "#276419"
            ]
           ],
           "sequential": [
            [
             0,
             "#0d0887"
            ],
            [
             0.1111111111111111,
             "#46039f"
            ],
            [
             0.2222222222222222,
             "#7201a8"
            ],
            [
             0.3333333333333333,
             "#9c179e"
            ],
            [
             0.4444444444444444,
             "#bd3786"
            ],
            [
             0.5555555555555556,
             "#d8576b"
            ],
            [
             0.6666666666666666,
             "#ed7953"
            ],
            [
             0.7777777777777778,
             "#fb9f3a"
            ],
            [
             0.8888888888888888,
             "#fdca26"
            ],
            [
             1,
             "#f0f921"
            ]
           ],
           "sequentialminus": [
            [
             0,
             "#0d0887"
            ],
            [
             0.1111111111111111,
             "#46039f"
            ],
            [
             0.2222222222222222,
             "#7201a8"
            ],
            [
             0.3333333333333333,
             "#9c179e"
            ],
            [
             0.4444444444444444,
             "#bd3786"
            ],
            [
             0.5555555555555556,
             "#d8576b"
            ],
            [
             0.6666666666666666,
             "#ed7953"
            ],
            [
             0.7777777777777778,
             "#fb9f3a"
            ],
            [
             0.8888888888888888,
             "#fdca26"
            ],
            [
             1,
             "#f0f921"
            ]
           ]
          },
          "colorway": [
           "#636efa",
           "#EF553B",
           "#00cc96",
           "#ab63fa",
           "#FFA15A",
           "#19d3f3",
           "#FF6692",
           "#B6E880",
           "#FF97FF",
           "#FECB52"
          ],
          "font": {
           "color": "#2a3f5f"
          },
          "geo": {
           "bgcolor": "white",
           "lakecolor": "white",
           "landcolor": "#E5ECF6",
           "showlakes": true,
           "showland": true,
           "subunitcolor": "white"
          },
          "hoverlabel": {
           "align": "left"
          },
          "hovermode": "closest",
          "mapbox": {
           "style": "light"
          },
          "paper_bgcolor": "white",
          "plot_bgcolor": "#E5ECF6",
          "polar": {
           "angularaxis": {
            "gridcolor": "white",
            "linecolor": "white",
            "ticks": ""
           },
           "bgcolor": "#E5ECF6",
           "radialaxis": {
            "gridcolor": "white",
            "linecolor": "white",
            "ticks": ""
           }
          },
          "scene": {
           "xaxis": {
            "backgroundcolor": "#E5ECF6",
            "gridcolor": "white",
            "gridwidth": 2,
            "linecolor": "white",
            "showbackground": true,
            "ticks": "",
            "zerolinecolor": "white"
           },
           "yaxis": {
            "backgroundcolor": "#E5ECF6",
            "gridcolor": "white",
            "gridwidth": 2,
            "linecolor": "white",
            "showbackground": true,
            "ticks": "",
            "zerolinecolor": "white"
           },
           "zaxis": {
            "backgroundcolor": "#E5ECF6",
            "gridcolor": "white",
            "gridwidth": 2,
            "linecolor": "white",
            "showbackground": true,
            "ticks": "",
            "zerolinecolor": "white"
           }
          },
          "shapedefaults": {
           "line": {
            "color": "#2a3f5f"
           }
          },
          "ternary": {
           "aaxis": {
            "gridcolor": "white",
            "linecolor": "white",
            "ticks": ""
           },
           "baxis": {
            "gridcolor": "white",
            "linecolor": "white",
            "ticks": ""
           },
           "bgcolor": "#E5ECF6",
           "caxis": {
            "gridcolor": "white",
            "linecolor": "white",
            "ticks": ""
           }
          },
          "title": {
           "x": 0.05
          },
          "xaxis": {
           "automargin": true,
           "gridcolor": "white",
           "linecolor": "white",
           "ticks": "",
           "title": {
            "standoff": 15
           },
           "zerolinecolor": "white",
           "zerolinewidth": 2
          },
          "yaxis": {
           "automargin": true,
           "gridcolor": "white",
           "linecolor": "white",
           "ticks": "",
           "title": {
            "standoff": 15
           },
           "zerolinecolor": "white",
           "zerolinewidth": 2
          }
         }
        },
        "xaxis": {
         "anchor": "y",
         "domain": [
          0,
          1
         ],
         "title": {
          "text": "roic"
         }
        },
        "yaxis": {
         "anchor": "x",
         "domain": [
          0,
          1
         ],
         "title": {
          "text": "index"
         }
        }
       }
      },
      "text/html": [
       "<div>                            <div id=\"d68a04bb-4d1e-4c55-a836-03dcea081283\" class=\"plotly-graph-div\" style=\"height:525px; width:100%;\"></div>            <script type=\"text/javascript\">                require([\"plotly\"], function(Plotly) {                    window.PLOTLYENV=window.PLOTLYENV || {};                                    if (document.getElementById(\"d68a04bb-4d1e-4c55-a836-03dcea081283\")) {                    Plotly.newPlot(                        \"d68a04bb-4d1e-4c55-a836-03dcea081283\",                        [{\"hovertemplate\":\"roic=%{x}<br>index=%{y}<extra></extra>\",\"legendgroup\":\"\",\"marker\":{\"color\":\"#636efa\",\"symbol\":\"circle\"},\"mode\":\"markers\",\"name\":\"\",\"orientation\":\"h\",\"showlegend\":false,\"x\":[2.0,0.5,0.2,0.1,0.2,0.1,0.8,0.6,0.5,0.7,0.7,0.4,0.2,0.1,0.3,0.1,0.1,0.1,0.2,0.2,0.2,0.3,0.3,0.3,0.3,0.2,0.1,0.1,0.3,0.2],\"xaxis\":\"x\",\"y\":[14,15,16,17,18,19,23,24,25,26,27,28,44,45,46,47,48,49,64,65,66,67,68,69,76,77,78,79,80,81],\"yaxis\":\"y\",\"type\":\"scatter\"}],                        {\"template\":{\"data\":{\"histogram2dcontour\":[{\"type\":\"histogram2dcontour\",\"colorbar\":{\"outlinewidth\":0,\"ticks\":\"\"},\"colorscale\":[[0.0,\"#0d0887\"],[0.1111111111111111,\"#46039f\"],[0.2222222222222222,\"#7201a8\"],[0.3333333333333333,\"#9c179e\"],[0.4444444444444444,\"#bd3786\"],[0.5555555555555556,\"#d8576b\"],[0.6666666666666666,\"#ed7953\"],[0.7777777777777778,\"#fb9f3a\"],[0.8888888888888888,\"#fdca26\"],[1.0,\"#f0f921\"]]}],\"choropleth\":[{\"type\":\"choropleth\",\"colorbar\":{\"outlinewidth\":0,\"ticks\":\"\"}}],\"histogram2d\":[{\"type\":\"histogram2d\",\"colorbar\":{\"outlinewidth\":0,\"ticks\":\"\"},\"colorscale\":[[0.0,\"#0d0887\"],[0.1111111111111111,\"#46039f\"],[0.2222222222222222,\"#7201a8\"],[0.3333333333333333,\"#9c179e\"],[0.4444444444444444,\"#bd3786\"],[0.5555555555555556,\"#d8576b\"],[0.6666666666666666,\"#ed7953\"],[0.7777777777777778,\"#fb9f3a\"],[0.8888888888888888,\"#fdca26\"],[1.0,\"#f0f921\"]]}],\"heatmap\":[{\"type\":\"heatmap\",\"colorbar\":{\"outlinewidth\":0,\"ticks\":\"\"},\"colorscale\":[[0.0,\"#0d0887\"],[0.1111111111111111,\"#46039f\"],[0.2222222222222222,\"#7201a8\"],[0.3333333333333333,\"#9c179e\"],[0.4444444444444444,\"#bd3786\"],[0.5555555555555556,\"#d8576b\"],[0.6666666666666666,\"#ed7953\"],[0.7777777777777778,\"#fb9f3a\"],[0.8888888888888888,\"#fdca26\"],[1.0,\"#f0f921\"]]}],\"heatmapgl\":[{\"type\":\"heatmapgl\",\"colorbar\":{\"outlinewidth\":0,\"ticks\":\"\"},\"colorscale\":[[0.0,\"#0d0887\"],[0.1111111111111111,\"#46039f\"],[0.2222222222222222,\"#7201a8\"],[0.3333333333333333,\"#9c179e\"],[0.4444444444444444,\"#bd3786\"],[0.5555555555555556,\"#d8576b\"],[0.6666666666666666,\"#ed7953\"],[0.7777777777777778,\"#fb9f3a\"],[0.8888888888888888,\"#fdca26\"],[1.0,\"#f0f921\"]]}],\"contourcarpet\":[{\"type\":\"contourcarpet\",\"colorbar\":{\"outlinewidth\":0,\"ticks\":\"\"}}],\"contour\":[{\"type\":\"contour\",\"colorbar\":{\"outlinewidth\":0,\"ticks\":\"\"},\"colorscale\":[[0.0,\"#0d0887\"],[0.1111111111111111,\"#46039f\"],[0.2222222222222222,\"#7201a8\"],[0.3333333333333333,\"#9c179e\"],[0.4444444444444444,\"#bd3786\"],[0.5555555555555556,\"#d8576b\"],[0.6666666666666666,\"#ed7953\"],[0.7777777777777778,\"#fb9f3a\"],[0.8888888888888888,\"#fdca26\"],[1.0,\"#f0f921\"]]}],\"surface\":[{\"type\":\"surface\",\"colorbar\":{\"outlinewidth\":0,\"ticks\":\"\"},\"colorscale\":[[0.0,\"#0d0887\"],[0.1111111111111111,\"#46039f\"],[0.2222222222222222,\"#7201a8\"],[0.3333333333333333,\"#9c179e\"],[0.4444444444444444,\"#bd3786\"],[0.5555555555555556,\"#d8576b\"],[0.6666666666666666,\"#ed7953\"],[0.7777777777777778,\"#fb9f3a\"],[0.8888888888888888,\"#fdca26\"],[1.0,\"#f0f921\"]]}],\"mesh3d\":[{\"type\":\"mesh3d\",\"colorbar\":{\"outlinewidth\":0,\"ticks\":\"\"}}],\"scatter\":[{\"fillpattern\":{\"fillmode\":\"overlay\",\"size\":10,\"solidity\":0.2},\"type\":\"scatter\"}],\"parcoords\":[{\"type\":\"parcoords\",\"line\":{\"colorbar\":{\"outlinewidth\":0,\"ticks\":\"\"}}}],\"scatterpolargl\":[{\"type\":\"scatterpolargl\",\"marker\":{\"colorbar\":{\"outlinewidth\":0,\"ticks\":\"\"}}}],\"bar\":[{\"error_x\":{\"color\":\"#2a3f5f\"},\"error_y\":{\"color\":\"#2a3f5f\"},\"marker\":{\"line\":{\"color\":\"#E5ECF6\",\"width\":0.5},\"pattern\":{\"fillmode\":\"overlay\",\"size\":10,\"solidity\":0.2}},\"type\":\"bar\"}],\"scattergeo\":[{\"type\":\"scattergeo\",\"marker\":{\"colorbar\":{\"outlinewidth\":0,\"ticks\":\"\"}}}],\"scatterpolar\":[{\"type\":\"scatterpolar\",\"marker\":{\"colorbar\":{\"outlinewidth\":0,\"ticks\":\"\"}}}],\"histogram\":[{\"marker\":{\"pattern\":{\"fillmode\":\"overlay\",\"size\":10,\"solidity\":0.2}},\"type\":\"histogram\"}],\"scattergl\":[{\"type\":\"scattergl\",\"marker\":{\"colorbar\":{\"outlinewidth\":0,\"ticks\":\"\"}}}],\"scatter3d\":[{\"type\":\"scatter3d\",\"line\":{\"colorbar\":{\"outlinewidth\":0,\"ticks\":\"\"}},\"marker\":{\"colorbar\":{\"outlinewidth\":0,\"ticks\":\"\"}}}],\"scattermapbox\":[{\"type\":\"scattermapbox\",\"marker\":{\"colorbar\":{\"outlinewidth\":0,\"ticks\":\"\"}}}],\"scatterternary\":[{\"type\":\"scatterternary\",\"marker\":{\"colorbar\":{\"outlinewidth\":0,\"ticks\":\"\"}}}],\"scattercarpet\":[{\"type\":\"scattercarpet\",\"marker\":{\"colorbar\":{\"outlinewidth\":0,\"ticks\":\"\"}}}],\"carpet\":[{\"aaxis\":{\"endlinecolor\":\"#2a3f5f\",\"gridcolor\":\"white\",\"linecolor\":\"white\",\"minorgridcolor\":\"white\",\"startlinecolor\":\"#2a3f5f\"},\"baxis\":{\"endlinecolor\":\"#2a3f5f\",\"gridcolor\":\"white\",\"linecolor\":\"white\",\"minorgridcolor\":\"white\",\"startlinecolor\":\"#2a3f5f\"},\"type\":\"carpet\"}],\"table\":[{\"cells\":{\"fill\":{\"color\":\"#EBF0F8\"},\"line\":{\"color\":\"white\"}},\"header\":{\"fill\":{\"color\":\"#C8D4E3\"},\"line\":{\"color\":\"white\"}},\"type\":\"table\"}],\"barpolar\":[{\"marker\":{\"line\":{\"color\":\"#E5ECF6\",\"width\":0.5},\"pattern\":{\"fillmode\":\"overlay\",\"size\":10,\"solidity\":0.2}},\"type\":\"barpolar\"}],\"pie\":[{\"automargin\":true,\"type\":\"pie\"}]},\"layout\":{\"autotypenumbers\":\"strict\",\"colorway\":[\"#636efa\",\"#EF553B\",\"#00cc96\",\"#ab63fa\",\"#FFA15A\",\"#19d3f3\",\"#FF6692\",\"#B6E880\",\"#FF97FF\",\"#FECB52\"],\"font\":{\"color\":\"#2a3f5f\"},\"hovermode\":\"closest\",\"hoverlabel\":{\"align\":\"left\"},\"paper_bgcolor\":\"white\",\"plot_bgcolor\":\"#E5ECF6\",\"polar\":{\"bgcolor\":\"#E5ECF6\",\"angularaxis\":{\"gridcolor\":\"white\",\"linecolor\":\"white\",\"ticks\":\"\"},\"radialaxis\":{\"gridcolor\":\"white\",\"linecolor\":\"white\",\"ticks\":\"\"}},\"ternary\":{\"bgcolor\":\"#E5ECF6\",\"aaxis\":{\"gridcolor\":\"white\",\"linecolor\":\"white\",\"ticks\":\"\"},\"baxis\":{\"gridcolor\":\"white\",\"linecolor\":\"white\",\"ticks\":\"\"},\"caxis\":{\"gridcolor\":\"white\",\"linecolor\":\"white\",\"ticks\":\"\"}},\"coloraxis\":{\"colorbar\":{\"outlinewidth\":0,\"ticks\":\"\"}},\"colorscale\":{\"sequential\":[[0.0,\"#0d0887\"],[0.1111111111111111,\"#46039f\"],[0.2222222222222222,\"#7201a8\"],[0.3333333333333333,\"#9c179e\"],[0.4444444444444444,\"#bd3786\"],[0.5555555555555556,\"#d8576b\"],[0.6666666666666666,\"#ed7953\"],[0.7777777777777778,\"#fb9f3a\"],[0.8888888888888888,\"#fdca26\"],[1.0,\"#f0f921\"]],\"sequentialminus\":[[0.0,\"#0d0887\"],[0.1111111111111111,\"#46039f\"],[0.2222222222222222,\"#7201a8\"],[0.3333333333333333,\"#9c179e\"],[0.4444444444444444,\"#bd3786\"],[0.5555555555555556,\"#d8576b\"],[0.6666666666666666,\"#ed7953\"],[0.7777777777777778,\"#fb9f3a\"],[0.8888888888888888,\"#fdca26\"],[1.0,\"#f0f921\"]],\"diverging\":[[0,\"#8e0152\"],[0.1,\"#c51b7d\"],[0.2,\"#de77ae\"],[0.3,\"#f1b6da\"],[0.4,\"#fde0ef\"],[0.5,\"#f7f7f7\"],[0.6,\"#e6f5d0\"],[0.7,\"#b8e186\"],[0.8,\"#7fbc41\"],[0.9,\"#4d9221\"],[1,\"#276419\"]]},\"xaxis\":{\"gridcolor\":\"white\",\"linecolor\":\"white\",\"ticks\":\"\",\"title\":{\"standoff\":15},\"zerolinecolor\":\"white\",\"automargin\":true,\"zerolinewidth\":2},\"yaxis\":{\"gridcolor\":\"white\",\"linecolor\":\"white\",\"ticks\":\"\",\"title\":{\"standoff\":15},\"zerolinecolor\":\"white\",\"automargin\":true,\"zerolinewidth\":2},\"scene\":{\"xaxis\":{\"backgroundcolor\":\"#E5ECF6\",\"gridcolor\":\"white\",\"linecolor\":\"white\",\"showbackground\":true,\"ticks\":\"\",\"zerolinecolor\":\"white\",\"gridwidth\":2},\"yaxis\":{\"backgroundcolor\":\"#E5ECF6\",\"gridcolor\":\"white\",\"linecolor\":\"white\",\"showbackground\":true,\"ticks\":\"\",\"zerolinecolor\":\"white\",\"gridwidth\":2},\"zaxis\":{\"backgroundcolor\":\"#E5ECF6\",\"gridcolor\":\"white\",\"linecolor\":\"white\",\"showbackground\":true,\"ticks\":\"\",\"zerolinecolor\":\"white\",\"gridwidth\":2}},\"shapedefaults\":{\"line\":{\"color\":\"#2a3f5f\"}},\"annotationdefaults\":{\"arrowcolor\":\"#2a3f5f\",\"arrowhead\":0,\"arrowwidth\":1},\"geo\":{\"bgcolor\":\"white\",\"landcolor\":\"#E5ECF6\",\"subunitcolor\":\"white\",\"showland\":true,\"showlakes\":true,\"lakecolor\":\"white\"},\"title\":{\"x\":0.05},\"mapbox\":{\"style\":\"light\"}}},\"xaxis\":{\"anchor\":\"y\",\"domain\":[0.0,1.0],\"title\":{\"text\":\"roic\"}},\"yaxis\":{\"anchor\":\"x\",\"domain\":[0.0,1.0],\"title\":{\"text\":\"index\"}},\"legend\":{\"tracegroupgap\":0},\"margin\":{\"t\":60}},                        {\"responsive\": true}                    ).then(function(){\n",
       "                            \n",
       "var gd = document.getElementById('d68a04bb-4d1e-4c55-a836-03dcea081283');\n",
       "var x = new MutationObserver(function (mutations, observer) {{\n",
       "        var display = window.getComputedStyle(gd).display;\n",
       "        if (!display || display === 'none') {{\n",
       "            console.log([gd, 'removed!']);\n",
       "            Plotly.purge(gd);\n",
       "            observer.disconnect();\n",
       "        }}\n",
       "}});\n",
       "\n",
       "// Listen for the removal of the full notebook cells\n",
       "var notebookContainer = gd.closest('#notebook-container');\n",
       "if (notebookContainer) {{\n",
       "    x.observe(notebookContainer, {childList: true});\n",
       "}}\n",
       "\n",
       "// Listen for the clearing of the current output cell\n",
       "var outputEl = gd.closest('.output');\n",
       "if (outputEl) {{\n",
       "    x.observe(outputEl, {childList: true});\n",
       "}}\n",
       "\n",
       "                        })                };                });            </script>        </div>"
      ]
     },
     "metadata": {},
     "output_type": "display_data"
    }
   ],
   "source": [
    "px.scatter(df[filt].round(1), x='roic')"
   ]
  },
  {
   "cell_type": "code",
   "execution_count": 48,
   "id": "022d8af1",
   "metadata": {},
   "outputs": [
    {
     "data": {
      "text/html": [
       "<div>\n",
       "<style scoped>\n",
       "    .dataframe tbody tr th:only-of-type {\n",
       "        vertical-align: middle;\n",
       "    }\n",
       "\n",
       "    .dataframe tbody tr th {\n",
       "        vertical-align: top;\n",
       "    }\n",
       "\n",
       "    .dataframe thead th {\n",
       "        text-align: right;\n",
       "    }\n",
       "</style>\n",
       "<table border=\"1\" class=\"dataframe\">\n",
       "  <thead>\n",
       "    <tr style=\"text-align: right;\">\n",
       "      <th></th>\n",
       "      <th>ticker</th>\n",
       "      <th>period_end_year</th>\n",
       "      <th>gross_margin</th>\n",
       "      <th>operating_margin</th>\n",
       "      <th>net_margin</th>\n",
       "      <th>fcf_margin</th>\n",
       "      <th>pe_ratio</th>\n",
       "      <th>fcf_yield</th>\n",
       "      <th>roic</th>\n",
       "      <th>roe</th>\n",
       "      <th>roa</th>\n",
       "      <th>roce</th>\n",
       "    </tr>\n",
       "  </thead>\n",
       "  <tbody>\n",
       "    <tr>\n",
       "      <th>0</th>\n",
       "      <td>AMZN:US</td>\n",
       "      <td>2002</td>\n",
       "      <td>0.252386</td>\n",
       "      <td>0.016304</td>\n",
       "      <td>-0.037919</td>\n",
       "      <td>0.054273</td>\n",
       "      <td>-49.160632</td>\n",
       "      <td>0.029115</td>\n",
       "      <td>0.340555</td>\n",
       "      <td>-0.074924</td>\n",
       "      <td>0.110238</td>\n",
       "      <td>-0.160555</td>\n",
       "    </tr>\n",
       "    <tr>\n",
       "      <th>1</th>\n",
       "      <td>AMZN:US</td>\n",
       "      <td>2003</td>\n",
       "      <td>0.238837</td>\n",
       "      <td>0.051408</td>\n",
       "      <td>0.006703</td>\n",
       "      <td>0.082245</td>\n",
       "      <td>601.567017</td>\n",
       "      <td>0.020397</td>\n",
       "      <td>-1.383267</td>\n",
       "      <td>0.016319</td>\n",
       "      <td>-0.034052</td>\n",
       "      <td>0.034724</td>\n",
       "    </tr>\n",
       "    <tr>\n",
       "      <th>2</th>\n",
       "      <td>AMZN:US</td>\n",
       "      <td>2004</td>\n",
       "      <td>0.231469</td>\n",
       "      <td>0.062419</td>\n",
       "      <td>0.084959</td>\n",
       "      <td>0.094640</td>\n",
       "      <td>30.867682</td>\n",
       "      <td>0.036088</td>\n",
       "      <td>0.754628</td>\n",
       "      <td>0.181034</td>\n",
       "      <td>-2.590308</td>\n",
       "      <td>0.438575</td>\n",
       "    </tr>\n",
       "    <tr>\n",
       "      <th>3</th>\n",
       "      <td>AMZN:US</td>\n",
       "      <td>2005</td>\n",
       "      <td>0.240165</td>\n",
       "      <td>0.056419</td>\n",
       "      <td>0.042285</td>\n",
       "      <td>0.110365</td>\n",
       "      <td>54.647799</td>\n",
       "      <td>0.047761</td>\n",
       "      <td>0.556137</td>\n",
       "      <td>0.097132</td>\n",
       "      <td>1.459350</td>\n",
       "      <td>0.095715</td>\n",
       "    </tr>\n",
       "    <tr>\n",
       "      <th>4</th>\n",
       "      <td>AMZN:US</td>\n",
       "      <td>2006</td>\n",
       "      <td>0.229297</td>\n",
       "      <td>0.037251</td>\n",
       "      <td>0.017739</td>\n",
       "      <td>0.085706</td>\n",
       "      <td>85.981263</td>\n",
       "      <td>0.056193</td>\n",
       "      <td>0.358844</td>\n",
       "      <td>0.043548</td>\n",
       "      <td>0.440835</td>\n",
       "      <td>-0.040961</td>\n",
       "    </tr>\n",
       "    <tr>\n",
       "      <th>...</th>\n",
       "      <td>...</td>\n",
       "      <td>...</td>\n",
       "      <td>...</td>\n",
       "      <td>...</td>\n",
       "      <td>...</td>\n",
       "      <td>...</td>\n",
       "      <td>...</td>\n",
       "      <td>...</td>\n",
       "      <td>...</td>\n",
       "      <td>...</td>\n",
       "      <td>...</td>\n",
       "      <td>...</td>\n",
       "    </tr>\n",
       "    <tr>\n",
       "      <th>76</th>\n",
       "      <td>ZLNDY:US</td>\n",
       "      <td>2017</td>\n",
       "      <td>0.436489</td>\n",
       "      <td>0.041791</td>\n",
       "      <td>0.022967</td>\n",
       "      <td>0.097483</td>\n",
       "      <td>108.638378</td>\n",
       "      <td>0.039069</td>\n",
       "      <td>0.249031</td>\n",
       "      <td>0.034594</td>\n",
       "      <td>0.066996</td>\n",
       "      <td>0.008008</td>\n",
       "    </tr>\n",
       "    <tr>\n",
       "      <th>77</th>\n",
       "      <td>ZLNDY:US</td>\n",
       "      <td>2018</td>\n",
       "      <td>0.423338</td>\n",
       "      <td>0.022124</td>\n",
       "      <td>0.009540</td>\n",
       "      <td>0.080235</td>\n",
       "      <td>110.718542</td>\n",
       "      <td>0.075962</td>\n",
       "      <td>0.127215</td>\n",
       "      <td>0.015895</td>\n",
       "      <td>0.033181</td>\n",
       "      <td>-0.011666</td>\n",
       "    </tr>\n",
       "    <tr>\n",
       "      <th>78</th>\n",
       "      <td>ZLNDY:US</td>\n",
       "      <td>2019</td>\n",
       "      <td>0.425484</td>\n",
       "      <td>0.025561</td>\n",
       "      <td>0.015380</td>\n",
       "      <td>0.094285</td>\n",
       "      <td>112.781721</td>\n",
       "      <td>0.054356</td>\n",
       "      <td>0.107065</td>\n",
       "      <td>0.023009</td>\n",
       "      <td>0.059215</td>\n",
       "      <td>0.010735</td>\n",
       "    </tr>\n",
       "    <tr>\n",
       "      <th>79</th>\n",
       "      <td>ZLNDY:US</td>\n",
       "      <td>2020</td>\n",
       "      <td>0.425232</td>\n",
       "      <td>0.045978</td>\n",
       "      <td>0.028326</td>\n",
       "      <td>0.093310</td>\n",
       "      <td>101.760293</td>\n",
       "      <td>0.032371</td>\n",
       "      <td>0.348800</td>\n",
       "      <td>0.034812</td>\n",
       "      <td>0.105109</td>\n",
       "      <td>0.021096</td>\n",
       "    </tr>\n",
       "    <tr>\n",
       "      <th>80</th>\n",
       "      <td>ZLNDY:US</td>\n",
       "      <td>2021</td>\n",
       "      <td>0.417829</td>\n",
       "      <td>0.041018</td>\n",
       "      <td>0.022648</td>\n",
       "      <td>0.091665</td>\n",
       "      <td>78.912751</td>\n",
       "      <td>0.051289</td>\n",
       "      <td>0.227537</td>\n",
       "      <td>0.034000</td>\n",
       "      <td>0.105688</td>\n",
       "      <td>0.014608</td>\n",
       "    </tr>\n",
       "  </tbody>\n",
       "</table>\n",
       "<p>81 rows × 12 columns</p>\n",
       "</div>"
      ],
      "text/plain": [
       "      ticker  period_end_year  gross_margin  operating_margin  net_margin  \\\n",
       "0    AMZN:US             2002      0.252386          0.016304   -0.037919   \n",
       "1    AMZN:US             2003      0.238837          0.051408    0.006703   \n",
       "2    AMZN:US             2004      0.231469          0.062419    0.084959   \n",
       "3    AMZN:US             2005      0.240165          0.056419    0.042285   \n",
       "4    AMZN:US             2006      0.229297          0.037251    0.017739   \n",
       "..       ...              ...           ...               ...         ...   \n",
       "76  ZLNDY:US             2017      0.436489          0.041791    0.022967   \n",
       "77  ZLNDY:US             2018      0.423338          0.022124    0.009540   \n",
       "78  ZLNDY:US             2019      0.425484          0.025561    0.015380   \n",
       "79  ZLNDY:US             2020      0.425232          0.045978    0.028326   \n",
       "80  ZLNDY:US             2021      0.417829          0.041018    0.022648   \n",
       "\n",
       "    fcf_margin    pe_ratio  fcf_yield      roic       roe       roa      roce  \n",
       "0     0.054273  -49.160632   0.029115  0.340555 -0.074924  0.110238 -0.160555  \n",
       "1     0.082245  601.567017   0.020397 -1.383267  0.016319 -0.034052  0.034724  \n",
       "2     0.094640   30.867682   0.036088  0.754628  0.181034 -2.590308  0.438575  \n",
       "3     0.110365   54.647799   0.047761  0.556137  0.097132  1.459350  0.095715  \n",
       "4     0.085706   85.981263   0.056193  0.358844  0.043548  0.440835 -0.040961  \n",
       "..         ...         ...        ...       ...       ...       ...       ...  \n",
       "76    0.097483  108.638378   0.039069  0.249031  0.034594  0.066996  0.008008  \n",
       "77    0.080235  110.718542   0.075962  0.127215  0.015895  0.033181 -0.011666  \n",
       "78    0.094285  112.781721   0.054356  0.107065  0.023009  0.059215  0.010735  \n",
       "79    0.093310  101.760293   0.032371  0.348800  0.034812  0.105109  0.021096  \n",
       "80    0.091665   78.912751   0.051289  0.227537  0.034000  0.105688  0.014608  \n",
       "\n",
       "[81 rows x 12 columns]"
      ]
     },
     "execution_count": 48,
     "metadata": {},
     "output_type": "execute_result"
    }
   ],
   "source": [
    "m_df"
   ]
  },
  {
   "cell_type": "code",
   "execution_count": 61,
   "id": "c664a217",
   "metadata": {},
   "outputs": [
    {
     "data": {
      "text/html": [
       "<div>\n",
       "<style scoped>\n",
       "    .dataframe tbody tr th:only-of-type {\n",
       "        vertical-align: middle;\n",
       "    }\n",
       "\n",
       "    .dataframe tbody tr th {\n",
       "        vertical-align: top;\n",
       "    }\n",
       "\n",
       "    .dataframe thead th {\n",
       "        text-align: right;\n",
       "    }\n",
       "</style>\n",
       "<table border=\"1\" class=\"dataframe\">\n",
       "  <thead>\n",
       "    <tr style=\"text-align: right;\">\n",
       "      <th></th>\n",
       "      <th>period_end_year</th>\n",
       "      <th>gross_margin</th>\n",
       "      <th>operating_margin</th>\n",
       "      <th>net_margin</th>\n",
       "      <th>fcf_margin</th>\n",
       "      <th>pe_ratio</th>\n",
       "      <th>fcf_yield</th>\n",
       "      <th>roic</th>\n",
       "      <th>roe</th>\n",
       "      <th>roa</th>\n",
       "      <th>roce</th>\n",
       "    </tr>\n",
       "    <tr>\n",
       "      <th>ticker</th>\n",
       "      <th></th>\n",
       "      <th></th>\n",
       "      <th></th>\n",
       "      <th></th>\n",
       "      <th></th>\n",
       "      <th></th>\n",
       "      <th></th>\n",
       "      <th></th>\n",
       "      <th></th>\n",
       "      <th></th>\n",
       "      <th></th>\n",
       "    </tr>\n",
       "  </thead>\n",
       "  <tbody>\n",
       "    <tr>\n",
       "      <th>AMZN:US</th>\n",
       "      <td>2017.0</td>\n",
       "      <td>0.108490</td>\n",
       "      <td>0.033798</td>\n",
       "      <td>0.027984</td>\n",
       "      <td>0.176043</td>\n",
       "      <td>135.684032</td>\n",
       "      <td>0.059303</td>\n",
       "      <td>0.126174</td>\n",
       "      <td>0.035806</td>\n",
       "      <td>0.130039</td>\n",
       "      <td>0.032960</td>\n",
       "    </tr>\n",
       "    <tr>\n",
       "      <th>ASC:LN</th>\n",
       "      <td>2017.0</td>\n",
       "      <td>0.493663</td>\n",
       "      <td>0.043410</td>\n",
       "      <td>0.031569</td>\n",
       "      <td>0.133055</td>\n",
       "      <td>74.772949</td>\n",
       "      <td>0.075389</td>\n",
       "      <td>0.459220</td>\n",
       "      <td>0.069154</td>\n",
       "      <td>0.161518</td>\n",
       "      <td>0.101728</td>\n",
       "    </tr>\n",
       "    <tr>\n",
       "      <th>BOO:LN</th>\n",
       "      <td>2017.5</td>\n",
       "      <td>0.554986</td>\n",
       "      <td>0.071328</td>\n",
       "      <td>0.052871</td>\n",
       "      <td>0.155962</td>\n",
       "      <td>6.955522</td>\n",
       "      <td>NaN</td>\n",
       "      <td>-0.415013</td>\n",
       "      <td>0.119953</td>\n",
       "      <td>0.350791</td>\n",
       "      <td>0.172870</td>\n",
       "    </tr>\n",
       "    <tr>\n",
       "      <th>COST:US</th>\n",
       "      <td>2017.0</td>\n",
       "      <td>0.129719</td>\n",
       "      <td>0.031233</td>\n",
       "      <td>0.021592</td>\n",
       "      <td>0.060180</td>\n",
       "      <td>30.868365</td>\n",
       "      <td>0.094360</td>\n",
       "      <td>0.234488</td>\n",
       "      <td>0.073342</td>\n",
       "      <td>0.218454</td>\n",
       "      <td>0.074259</td>\n",
       "    </tr>\n",
       "    <tr>\n",
       "      <th>ZLNDY:US</th>\n",
       "      <td>2017.0</td>\n",
       "      <td>0.428937</td>\n",
       "      <td>0.024815</td>\n",
       "      <td>0.014239</td>\n",
       "      <td>0.082411</td>\n",
       "      <td>73.467731</td>\n",
       "      <td>NaN</td>\n",
       "      <td>0.145646</td>\n",
       "      <td>0.018308</td>\n",
       "      <td>0.042203</td>\n",
       "      <td>0.000262</td>\n",
       "    </tr>\n",
       "  </tbody>\n",
       "</table>\n",
       "</div>"
      ],
      "text/plain": [
       "          period_end_year  gross_margin  operating_margin  net_margin  \\\n",
       "ticker                                                                  \n",
       "AMZN:US            2017.0      0.108490          0.033798    0.027984   \n",
       "ASC:LN             2017.0      0.493663          0.043410    0.031569   \n",
       "BOO:LN             2017.5      0.554986          0.071328    0.052871   \n",
       "COST:US            2017.0      0.129719          0.031233    0.021592   \n",
       "ZLNDY:US           2017.0      0.428937          0.024815    0.014239   \n",
       "\n",
       "          fcf_margin    pe_ratio  fcf_yield      roic       roe       roa  \\\n",
       "ticker                                                                      \n",
       "AMZN:US     0.176043  135.684032   0.059303  0.126174  0.035806  0.130039   \n",
       "ASC:LN      0.133055   74.772949   0.075389  0.459220  0.069154  0.161518   \n",
       "BOO:LN      0.155962    6.955522        NaN -0.415013  0.119953  0.350791   \n",
       "COST:US     0.060180   30.868365   0.094360  0.234488  0.073342  0.218454   \n",
       "ZLNDY:US    0.082411   73.467731        NaN  0.145646  0.018308  0.042203   \n",
       "\n",
       "              roce  \n",
       "ticker              \n",
       "AMZN:US   0.032960  \n",
       "ASC:LN    0.101728  \n",
       "BOO:LN    0.172870  \n",
       "COST:US   0.074259  \n",
       "ZLNDY:US  0.000262  "
      ]
     },
     "execution_count": 61,
     "metadata": {},
     "output_type": "execute_result"
    }
   ],
   "source": [
    "filt = (m_df.period_end_year > max(m_df.period_end_year) - 10)\n",
    "m_df[filt].groupby('ticker').agg('mean')"
   ]
  },
  {
   "cell_type": "code",
   "execution_count": null,
   "id": "c8147e03",
   "metadata": {},
   "outputs": [],
   "source": []
  },
  {
   "cell_type": "code",
   "execution_count": 18,
   "id": "047eddb5",
   "metadata": {},
   "outputs": [],
   "source": [
    "# roic = m_df.groupby('ticker')['roic'].transform(lambda x: x.rolling(5, 1).mean())\n",
    "# dict(zip(roic, m_df.ticker.values))"
   ]
  },
  {
   "cell_type": "code",
   "execution_count": 19,
   "id": "58f2ea5a",
   "metadata": {},
   "outputs": [
    {
     "data": {
      "text/html": [
       "<div>\n",
       "<style scoped>\n",
       "    .dataframe tbody tr th:only-of-type {\n",
       "        vertical-align: middle;\n",
       "    }\n",
       "\n",
       "    .dataframe tbody tr th {\n",
       "        vertical-align: top;\n",
       "    }\n",
       "\n",
       "    .dataframe thead th {\n",
       "        text-align: right;\n",
       "    }\n",
       "</style>\n",
       "<table border=\"1\" class=\"dataframe\">\n",
       "  <thead>\n",
       "    <tr style=\"text-align: right;\">\n",
       "      <th></th>\n",
       "      <th>ticker</th>\n",
       "      <th>period_end_date</th>\n",
       "      <th>period_end_month</th>\n",
       "      <th>period_end_year</th>\n",
       "      <th>period_end_price</th>\n",
       "      <th>revenue</th>\n",
       "      <th>cogs</th>\n",
       "      <th>gross_profit</th>\n",
       "      <th>sga</th>\n",
       "      <th>rnd</th>\n",
       "      <th>...</th>\n",
       "      <th>cfi_ppe_net</th>\n",
       "      <th>cfi_acquisitions_net</th>\n",
       "      <th>cfi_investment_net</th>\n",
       "      <th>cfi_intangibles_net</th>\n",
       "      <th>cff_common_stock_net</th>\n",
       "      <th>cff_debt_net</th>\n",
       "      <th>cff_dividend_paid</th>\n",
       "      <th>cf_cff</th>\n",
       "      <th>market_cap</th>\n",
       "      <th>fcf</th>\n",
       "    </tr>\n",
       "  </thead>\n",
       "  <tbody>\n",
       "    <tr>\n",
       "      <th>0</th>\n",
       "      <td>ASC:LN</td>\n",
       "      <td>2001-12</td>\n",
       "      <td>12</td>\n",
       "      <td>2001</td>\n",
       "      <td>0.160</td>\n",
       "      <td>1.702</td>\n",
       "      <td>0.705</td>\n",
       "      <td>0.997</td>\n",
       "      <td>0.000</td>\n",
       "      <td>0.0</td>\n",
       "      <td>...</td>\n",
       "      <td>-0.026</td>\n",
       "      <td>0.360</td>\n",
       "      <td>0.0</td>\n",
       "      <td>0.000</td>\n",
       "      <td>0.071</td>\n",
       "      <td>0.456</td>\n",
       "      <td>0.0</td>\n",
       "      <td>0.527</td>\n",
       "      <td>9.860800</td>\n",
       "      <td>-0.784</td>\n",
       "    </tr>\n",
       "    <tr>\n",
       "      <th>1</th>\n",
       "      <td>ASC:LN</td>\n",
       "      <td>2002-12</td>\n",
       "      <td>12</td>\n",
       "      <td>2002</td>\n",
       "      <td>0.053</td>\n",
       "      <td>4.104</td>\n",
       "      <td>1.941</td>\n",
       "      <td>2.163</td>\n",
       "      <td>0.000</td>\n",
       "      <td>0.0</td>\n",
       "      <td>...</td>\n",
       "      <td>-0.028</td>\n",
       "      <td>0.000</td>\n",
       "      <td>0.0</td>\n",
       "      <td>0.000</td>\n",
       "      <td>0.000</td>\n",
       "      <td>-0.049</td>\n",
       "      <td>0.0</td>\n",
       "      <td>-0.049</td>\n",
       "      <td>3.266390</td>\n",
       "      <td>-0.183</td>\n",
       "    </tr>\n",
       "    <tr>\n",
       "      <th>2</th>\n",
       "      <td>ASC:LN</td>\n",
       "      <td>2004-03</td>\n",
       "      <td>3</td>\n",
       "      <td>2004</td>\n",
       "      <td>0.139</td>\n",
       "      <td>0.000</td>\n",
       "      <td>0.000</td>\n",
       "      <td>0.000</td>\n",
       "      <td>0.000</td>\n",
       "      <td>0.0</td>\n",
       "      <td>...</td>\n",
       "      <td>0.000</td>\n",
       "      <td>0.000</td>\n",
       "      <td>0.0</td>\n",
       "      <td>0.000</td>\n",
       "      <td>0.000</td>\n",
       "      <td>0.000</td>\n",
       "      <td>0.0</td>\n",
       "      <td>0.000</td>\n",
       "      <td>9.449220</td>\n",
       "      <td>0.000</td>\n",
       "    </tr>\n",
       "    <tr>\n",
       "      <th>3</th>\n",
       "      <td>ASC:LN</td>\n",
       "      <td>2005-03</td>\n",
       "      <td>3</td>\n",
       "      <td>2005</td>\n",
       "      <td>0.530</td>\n",
       "      <td>13.518</td>\n",
       "      <td>6.928</td>\n",
       "      <td>6.590</td>\n",
       "      <td>0.000</td>\n",
       "      <td>0.0</td>\n",
       "      <td>...</td>\n",
       "      <td>-0.299</td>\n",
       "      <td>0.000</td>\n",
       "      <td>0.0</td>\n",
       "      <td>0.000</td>\n",
       "      <td>0.152</td>\n",
       "      <td>0.000</td>\n",
       "      <td>0.0</td>\n",
       "      <td>0.152</td>\n",
       "      <td>38.024320</td>\n",
       "      <td>1.501</td>\n",
       "    </tr>\n",
       "    <tr>\n",
       "      <th>4</th>\n",
       "      <td>ASC:LN</td>\n",
       "      <td>2006-03</td>\n",
       "      <td>3</td>\n",
       "      <td>2006</td>\n",
       "      <td>0.965</td>\n",
       "      <td>19.716</td>\n",
       "      <td>11.664</td>\n",
       "      <td>8.052</td>\n",
       "      <td>0.268</td>\n",
       "      <td>0.0</td>\n",
       "      <td>...</td>\n",
       "      <td>-0.901</td>\n",
       "      <td>0.000</td>\n",
       "      <td>0.0</td>\n",
       "      <td>0.000</td>\n",
       "      <td>0.016</td>\n",
       "      <td>0.000</td>\n",
       "      <td>0.0</td>\n",
       "      <td>0.016</td>\n",
       "      <td>69.388325</td>\n",
       "      <td>3.484</td>\n",
       "    </tr>\n",
       "    <tr>\n",
       "      <th>...</th>\n",
       "      <td>...</td>\n",
       "      <td>...</td>\n",
       "      <td>...</td>\n",
       "      <td>...</td>\n",
       "      <td>...</td>\n",
       "      <td>...</td>\n",
       "      <td>...</td>\n",
       "      <td>...</td>\n",
       "      <td>...</td>\n",
       "      <td>...</td>\n",
       "      <td>...</td>\n",
       "      <td>...</td>\n",
       "      <td>...</td>\n",
       "      <td>...</td>\n",
       "      <td>...</td>\n",
       "      <td>...</td>\n",
       "      <td>...</td>\n",
       "      <td>...</td>\n",
       "      <td>...</td>\n",
       "      <td>...</td>\n",
       "      <td>...</td>\n",
       "    </tr>\n",
       "    <tr>\n",
       "      <th>77</th>\n",
       "      <td>ZLNDY:US</td>\n",
       "      <td>2017-12</td>\n",
       "      <td>12</td>\n",
       "      <td>2017</td>\n",
       "      <td>26.810</td>\n",
       "      <td>5312.426</td>\n",
       "      <td>2993.609</td>\n",
       "      <td>2318.817</td>\n",
       "      <td>2099.053</td>\n",
       "      <td>0.0</td>\n",
       "      <td>...</td>\n",
       "      <td>-223.787</td>\n",
       "      <td>-41.302</td>\n",
       "      <td>0.0</td>\n",
       "      <td>-64.852</td>\n",
       "      <td>-8.758</td>\n",
       "      <td>-3.787</td>\n",
       "      <td>0.0</td>\n",
       "      <td>-12.544</td>\n",
       "      <td>13255.185720</td>\n",
       "      <td>517.870</td>\n",
       "    </tr>\n",
       "    <tr>\n",
       "      <th>78</th>\n",
       "      <td>ZLNDY:US</td>\n",
       "      <td>2018-12</td>\n",
       "      <td>12</td>\n",
       "      <td>2018</td>\n",
       "      <td>13.060</td>\n",
       "      <td>6129.579</td>\n",
       "      <td>3534.699</td>\n",
       "      <td>2594.881</td>\n",
       "      <td>2466.553</td>\n",
       "      <td>0.0</td>\n",
       "      <td>...</td>\n",
       "      <td>-190.216</td>\n",
       "      <td>-8.077</td>\n",
       "      <td>0.0</td>\n",
       "      <td>-59.499</td>\n",
       "      <td>-83.163</td>\n",
       "      <td>-3.185</td>\n",
       "      <td>0.0</td>\n",
       "      <td>-86.348</td>\n",
       "      <td>6474.377460</td>\n",
       "      <td>491.808</td>\n",
       "    </tr>\n",
       "    <tr>\n",
       "      <th>79</th>\n",
       "      <td>ZLNDY:US</td>\n",
       "      <td>2019-12</td>\n",
       "      <td>12</td>\n",
       "      <td>2019</td>\n",
       "      <td>25.120</td>\n",
       "      <td>7202.778</td>\n",
       "      <td>4138.111</td>\n",
       "      <td>3064.667</td>\n",
       "      <td>912.333</td>\n",
       "      <td>0.0</td>\n",
       "      <td>...</td>\n",
       "      <td>-234.667</td>\n",
       "      <td>-1.889</td>\n",
       "      <td>0.0</td>\n",
       "      <td>-80.889</td>\n",
       "      <td>-0.333</td>\n",
       "      <td>-3.111</td>\n",
       "      <td>0.0</td>\n",
       "      <td>-63.667</td>\n",
       "      <td>12493.733440</td>\n",
       "      <td>679.112</td>\n",
       "    </tr>\n",
       "    <tr>\n",
       "      <th>80</th>\n",
       "      <td>ZLNDY:US</td>\n",
       "      <td>2020-12</td>\n",
       "      <td>12</td>\n",
       "      <td>2020</td>\n",
       "      <td>55.230</td>\n",
       "      <td>9710.462</td>\n",
       "      <td>5581.265</td>\n",
       "      <td>4129.197</td>\n",
       "      <td>1192.336</td>\n",
       "      <td>0.0</td>\n",
       "      <td>...</td>\n",
       "      <td>-176.277</td>\n",
       "      <td>-31.022</td>\n",
       "      <td>0.0</td>\n",
       "      <td>-88.200</td>\n",
       "      <td>67.032</td>\n",
       "      <td>1662.044</td>\n",
       "      <td>0.0</td>\n",
       "      <td>1647.324</td>\n",
       "      <td>27990.287850</td>\n",
       "      <td>906.083</td>\n",
       "    </tr>\n",
       "    <tr>\n",
       "      <th>81</th>\n",
       "      <td>ZLNDY:US</td>\n",
       "      <td>2021-12</td>\n",
       "      <td>12</td>\n",
       "      <td>2021</td>\n",
       "      <td>40.410</td>\n",
       "      <td>11699.435</td>\n",
       "      <td>6811.073</td>\n",
       "      <td>4888.362</td>\n",
       "      <td>1495.480</td>\n",
       "      <td>0.0</td>\n",
       "      <td>...</td>\n",
       "      <td>-271.638</td>\n",
       "      <td>0.000</td>\n",
       "      <td>0.0</td>\n",
       "      <td>-104.520</td>\n",
       "      <td>-200.565</td>\n",
       "      <td>-426.780</td>\n",
       "      <td>0.0</td>\n",
       "      <td>-722.938</td>\n",
       "      <td>20909.669580</td>\n",
       "      <td>1072.429</td>\n",
       "    </tr>\n",
       "  </tbody>\n",
       "</table>\n",
       "<p>82 rows × 44 columns</p>\n",
       "</div>"
      ],
      "text/plain": [
       "      ticker period_end_date  period_end_month  period_end_year  \\\n",
       "0     ASC:LN         2001-12                12             2001   \n",
       "1     ASC:LN         2002-12                12             2002   \n",
       "2     ASC:LN         2004-03                 3             2004   \n",
       "3     ASC:LN         2005-03                 3             2005   \n",
       "4     ASC:LN         2006-03                 3             2006   \n",
       "..       ...             ...               ...              ...   \n",
       "77  ZLNDY:US         2017-12                12             2017   \n",
       "78  ZLNDY:US         2018-12                12             2018   \n",
       "79  ZLNDY:US         2019-12                12             2019   \n",
       "80  ZLNDY:US         2020-12                12             2020   \n",
       "81  ZLNDY:US         2021-12                12             2021   \n",
       "\n",
       "    period_end_price    revenue      cogs  gross_profit       sga  rnd  ...  \\\n",
       "0              0.160      1.702     0.705         0.997     0.000  0.0  ...   \n",
       "1              0.053      4.104     1.941         2.163     0.000  0.0  ...   \n",
       "2              0.139      0.000     0.000         0.000     0.000  0.0  ...   \n",
       "3              0.530     13.518     6.928         6.590     0.000  0.0  ...   \n",
       "4              0.965     19.716    11.664         8.052     0.268  0.0  ...   \n",
       "..               ...        ...       ...           ...       ...  ...  ...   \n",
       "77            26.810   5312.426  2993.609      2318.817  2099.053  0.0  ...   \n",
       "78            13.060   6129.579  3534.699      2594.881  2466.553  0.0  ...   \n",
       "79            25.120   7202.778  4138.111      3064.667   912.333  0.0  ...   \n",
       "80            55.230   9710.462  5581.265      4129.197  1192.336  0.0  ...   \n",
       "81            40.410  11699.435  6811.073      4888.362  1495.480  0.0  ...   \n",
       "\n",
       "    cfi_ppe_net  cfi_acquisitions_net  cfi_investment_net  \\\n",
       "0        -0.026                 0.360                 0.0   \n",
       "1        -0.028                 0.000                 0.0   \n",
       "2         0.000                 0.000                 0.0   \n",
       "3        -0.299                 0.000                 0.0   \n",
       "4        -0.901                 0.000                 0.0   \n",
       "..          ...                   ...                 ...   \n",
       "77     -223.787               -41.302                 0.0   \n",
       "78     -190.216                -8.077                 0.0   \n",
       "79     -234.667                -1.889                 0.0   \n",
       "80     -176.277               -31.022                 0.0   \n",
       "81     -271.638                 0.000                 0.0   \n",
       "\n",
       "    cfi_intangibles_net  cff_common_stock_net  cff_debt_net  \\\n",
       "0                 0.000                 0.071         0.456   \n",
       "1                 0.000                 0.000        -0.049   \n",
       "2                 0.000                 0.000         0.000   \n",
       "3                 0.000                 0.152         0.000   \n",
       "4                 0.000                 0.016         0.000   \n",
       "..                  ...                   ...           ...   \n",
       "77              -64.852                -8.758        -3.787   \n",
       "78              -59.499               -83.163        -3.185   \n",
       "79              -80.889                -0.333        -3.111   \n",
       "80              -88.200                67.032      1662.044   \n",
       "81             -104.520              -200.565      -426.780   \n",
       "\n",
       "    cff_dividend_paid    cf_cff    market_cap       fcf  \n",
       "0                 0.0     0.527      9.860800    -0.784  \n",
       "1                 0.0    -0.049      3.266390    -0.183  \n",
       "2                 0.0     0.000      9.449220     0.000  \n",
       "3                 0.0     0.152     38.024320     1.501  \n",
       "4                 0.0     0.016     69.388325     3.484  \n",
       "..                ...       ...           ...       ...  \n",
       "77                0.0   -12.544  13255.185720   517.870  \n",
       "78                0.0   -86.348   6474.377460   491.808  \n",
       "79                0.0   -63.667  12493.733440   679.112  \n",
       "80                0.0  1647.324  27990.287850   906.083  \n",
       "81                0.0  -722.938  20909.669580  1072.429  \n",
       "\n",
       "[82 rows x 44 columns]"
      ]
     },
     "execution_count": 19,
     "metadata": {},
     "output_type": "execute_result"
    }
   ],
   "source": [
    "df"
   ]
  },
  {
   "cell_type": "code",
   "execution_count": 83,
   "id": "768e774d",
   "metadata": {},
   "outputs": [
    {
     "data": {
      "text/html": [
       "<div>\n",
       "<style scoped>\n",
       "    .dataframe tbody tr th:only-of-type {\n",
       "        vertical-align: middle;\n",
       "    }\n",
       "\n",
       "    .dataframe tbody tr th {\n",
       "        vertical-align: top;\n",
       "    }\n",
       "\n",
       "    .dataframe thead th {\n",
       "        text-align: right;\n",
       "    }\n",
       "</style>\n",
       "<table border=\"1\" class=\"dataframe\">\n",
       "  <thead>\n",
       "    <tr style=\"text-align: right;\">\n",
       "      <th></th>\n",
       "      <th></th>\n",
       "      <th>period_end_year</th>\n",
       "      <th>gross_margin</th>\n",
       "      <th>operating_margin</th>\n",
       "      <th>net_margin</th>\n",
       "      <th>fcf_margin</th>\n",
       "      <th>pe_ratio</th>\n",
       "      <th>fcf_yield</th>\n",
       "      <th>roic</th>\n",
       "      <th>roe</th>\n",
       "      <th>roa</th>\n",
       "      <th>roce</th>\n",
       "    </tr>\n",
       "    <tr>\n",
       "      <th>ticker</th>\n",
       "      <th></th>\n",
       "      <th></th>\n",
       "      <th></th>\n",
       "      <th></th>\n",
       "      <th></th>\n",
       "      <th></th>\n",
       "      <th></th>\n",
       "      <th></th>\n",
       "      <th></th>\n",
       "      <th></th>\n",
       "      <th></th>\n",
       "      <th></th>\n",
       "    </tr>\n",
       "  </thead>\n",
       "  <tbody>\n",
       "    <tr>\n",
       "      <th rowspan=\"11\" valign=\"top\">AMZN:US</th>\n",
       "      <th>9</th>\n",
       "      <td>2006.5</td>\n",
       "      <td>0.174867</td>\n",
       "      <td>0.041759</td>\n",
       "      <td>0.026311</td>\n",
       "      <td>0.104219</td>\n",
       "      <td>110.044317</td>\n",
       "      <td>0.051323</td>\n",
       "      <td>82.717615</td>\n",
       "      <td>0.219789</td>\n",
       "      <td>0.668422</td>\n",
       "      <td>0.074891</td>\n",
       "    </tr>\n",
       "    <tr>\n",
       "      <th>10</th>\n",
       "      <td>2007.5</td>\n",
       "      <td>0.156403</td>\n",
       "      <td>0.041235</td>\n",
       "      <td>0.030039</td>\n",
       "      <td>0.111829</td>\n",
       "      <td>-177.089671</td>\n",
       "      <td>0.055405</td>\n",
       "      <td>82.805260</td>\n",
       "      <td>0.233531</td>\n",
       "      <td>0.781429</td>\n",
       "      <td>0.086822</td>\n",
       "    </tr>\n",
       "    <tr>\n",
       "      <th>11</th>\n",
       "      <td>2008.5</td>\n",
       "      <td>0.139398</td>\n",
       "      <td>0.037095</td>\n",
       "      <td>0.029737</td>\n",
       "      <td>0.115584</td>\n",
       "      <td>-170.440095</td>\n",
       "      <td>0.058237</td>\n",
       "      <td>83.171908</td>\n",
       "      <td>0.235717</td>\n",
       "      <td>0.914727</td>\n",
       "      <td>0.083187</td>\n",
       "    </tr>\n",
       "    <tr>\n",
       "      <th>12</th>\n",
       "      <td>2009.5</td>\n",
       "      <td>0.123212</td>\n",
       "      <td>0.031053</td>\n",
       "      <td>0.020970</td>\n",
       "      <td>0.119307</td>\n",
       "      <td>-233.409602</td>\n",
       "      <td>0.062760</td>\n",
       "      <td>83.105674</td>\n",
       "      <td>0.237081</td>\n",
       "      <td>1.312527</td>\n",
       "      <td>0.036990</td>\n",
       "    </tr>\n",
       "    <tr>\n",
       "      <th>13</th>\n",
       "      <td>2010.5</td>\n",
       "      <td>0.107985</td>\n",
       "      <td>0.027498</td>\n",
       "      <td>0.017299</td>\n",
       "      <td>0.123810</td>\n",
       "      <td>-185.460137</td>\n",
       "      <td>0.063207</td>\n",
       "      <td>83.117670</td>\n",
       "      <td>0.237410</td>\n",
       "      <td>1.055871</td>\n",
       "      <td>0.024784</td>\n",
       "    </tr>\n",
       "    <tr>\n",
       "      <th>14</th>\n",
       "      <td>2011.5</td>\n",
       "      <td>0.095364</td>\n",
       "      <td>0.026851</td>\n",
       "      <td>0.017269</td>\n",
       "      <td>0.132844</td>\n",
       "      <td>-178.972107</td>\n",
       "      <td>0.064281</td>\n",
       "      <td>83.139745</td>\n",
       "      <td>0.245074</td>\n",
       "      <td>0.967016</td>\n",
       "      <td>0.030047</td>\n",
       "    </tr>\n",
       "    <tr>\n",
       "      <th>15</th>\n",
       "      <td>2012.5</td>\n",
       "      <td>0.082917</td>\n",
       "      <td>0.024684</td>\n",
       "      <td>0.015765</td>\n",
       "      <td>0.137843</td>\n",
       "      <td>-168.406051</td>\n",
       "      <td>0.065075</td>\n",
       "      <td>1.752749</td>\n",
       "      <td>0.241600</td>\n",
       "      <td>0.933502</td>\n",
       "      <td>0.024217</td>\n",
       "    </tr>\n",
       "    <tr>\n",
       "      <th>16</th>\n",
       "      <td>2013.5</td>\n",
       "      <td>0.087933</td>\n",
       "      <td>0.025624</td>\n",
       "      <td>0.016725</td>\n",
       "      <td>0.145306</td>\n",
       "      <td>-164.492175</td>\n",
       "      <td>0.061540</td>\n",
       "      <td>1.380705</td>\n",
       "      <td>0.243035</td>\n",
       "      <td>0.954078</td>\n",
       "      <td>0.022965</td>\n",
       "    </tr>\n",
       "    <tr>\n",
       "      <th>17</th>\n",
       "      <td>2014.5</td>\n",
       "      <td>0.092637</td>\n",
       "      <td>0.026201</td>\n",
       "      <td>0.017176</td>\n",
       "      <td>0.148601</td>\n",
       "      <td>-163.172597</td>\n",
       "      <td>0.060966</td>\n",
       "      <td>1.260594</td>\n",
       "      <td>0.239226</td>\n",
       "      <td>0.966848</td>\n",
       "      <td>0.018969</td>\n",
       "    </tr>\n",
       "    <tr>\n",
       "      <th>18</th>\n",
       "      <td>2015.5</td>\n",
       "      <td>0.097173</td>\n",
       "      <td>0.028022</td>\n",
       "      <td>0.019333</td>\n",
       "      <td>0.161710</td>\n",
       "      <td>-162.539426</td>\n",
       "      <td>0.061627</td>\n",
       "      <td>1.215108</td>\n",
       "      <td>0.246903</td>\n",
       "      <td>1.009915</td>\n",
       "      <td>0.018571</td>\n",
       "    </tr>\n",
       "    <tr>\n",
       "      <th>19</th>\n",
       "      <td>2016.5</td>\n",
       "      <td>0.104416</td>\n",
       "      <td>0.031525</td>\n",
       "      <td>0.025122</td>\n",
       "      <td>0.171476</td>\n",
       "      <td>-169.934423</td>\n",
       "      <td>0.060365</td>\n",
       "      <td>1.115280</td>\n",
       "      <td>0.248487</td>\n",
       "      <td>1.009834</td>\n",
       "      <td>0.025540</td>\n",
       "    </tr>\n",
       "    <tr>\n",
       "      <th rowspan=\"10\" valign=\"top\">ASC:LN</th>\n",
       "      <th>29</th>\n",
       "      <td>2007.1</td>\n",
       "      <td>0.474494</td>\n",
       "      <td>0.013308</td>\n",
       "      <td>-0.060869</td>\n",
       "      <td>0.052992</td>\n",
       "      <td>37.747459</td>\n",
       "      <td>0.031651</td>\n",
       "      <td>1.065156</td>\n",
       "      <td>0.218325</td>\n",
       "      <td>0.465089</td>\n",
       "      <td>0.025508</td>\n",
       "    </tr>\n",
       "    <tr>\n",
       "      <th>30</th>\n",
       "      <td>2008.3</td>\n",
       "      <td>0.467720</td>\n",
       "      <td>0.070386</td>\n",
       "      <td>0.009903</td>\n",
       "      <td>0.112768</td>\n",
       "      <td>48.216771</td>\n",
       "      <td>0.042291</td>\n",
       "      <td>1.207058</td>\n",
       "      <td>0.271822</td>\n",
       "      <td>0.553265</td>\n",
       "      <td>0.074011</td>\n",
       "    </tr>\n",
       "    <tr>\n",
       "      <th>31</th>\n",
       "      <td>2009.5</td>\n",
       "      <td>0.464736</td>\n",
       "      <td>0.077414</td>\n",
       "      <td>0.055138</td>\n",
       "      <td>0.130660</td>\n",
       "      <td>54.805091</td>\n",
       "      <td>0.053438</td>\n",
       "      <td>1.327421</td>\n",
       "      <td>0.312085</td>\n",
       "      <td>0.631110</td>\n",
       "      <td>0.180279</td>\n",
       "    </tr>\n",
       "    <tr>\n",
       "      <th>32</th>\n",
       "      <td>2010.5</td>\n",
       "      <td>0.466126</td>\n",
       "      <td>0.073546</td>\n",
       "      <td>0.051863</td>\n",
       "      <td>0.132120</td>\n",
       "      <td>57.262059</td>\n",
       "      <td>0.055239</td>\n",
       "      <td>1.352299</td>\n",
       "      <td>0.318825</td>\n",
       "      <td>0.650069</td>\n",
       "      <td>0.166403</td>\n",
       "    </tr>\n",
       "    <tr>\n",
       "      <th>33</th>\n",
       "      <td>2011.5</td>\n",
       "      <td>0.475269</td>\n",
       "      <td>0.070927</td>\n",
       "      <td>0.046364</td>\n",
       "      <td>0.128976</td>\n",
       "      <td>67.854470</td>\n",
       "      <td>0.055772</td>\n",
       "      <td>1.930888</td>\n",
       "      <td>0.319364</td>\n",
       "      <td>0.691716</td>\n",
       "      <td>0.147887</td>\n",
       "    </tr>\n",
       "    <tr>\n",
       "      <th>34</th>\n",
       "      <td>2012.5</td>\n",
       "      <td>0.482552</td>\n",
       "      <td>0.067636</td>\n",
       "      <td>0.043868</td>\n",
       "      <td>0.133650</td>\n",
       "      <td>71.947703</td>\n",
       "      <td>0.056365</td>\n",
       "      <td>2.013037</td>\n",
       "      <td>0.326505</td>\n",
       "      <td>0.741327</td>\n",
       "      <td>0.145877</td>\n",
       "    </tr>\n",
       "    <tr>\n",
       "      <th>35</th>\n",
       "      <td>2013.5</td>\n",
       "      <td>0.487724</td>\n",
       "      <td>0.062927</td>\n",
       "      <td>0.041041</td>\n",
       "      <td>0.128356</td>\n",
       "      <td>74.557287</td>\n",
       "      <td>0.054343</td>\n",
       "      <td>1.828993</td>\n",
       "      <td>0.316890</td>\n",
       "      <td>0.719823</td>\n",
       "      <td>0.143007</td>\n",
       "    </tr>\n",
       "    <tr>\n",
       "      <th>36</th>\n",
       "      <td>2014.5</td>\n",
       "      <td>0.493187</td>\n",
       "      <td>0.055603</td>\n",
       "      <td>0.035890</td>\n",
       "      <td>0.126902</td>\n",
       "      <td>80.488007</td>\n",
       "      <td>0.060219</td>\n",
       "      <td>1.722395</td>\n",
       "      <td>0.307311</td>\n",
       "      <td>0.705831</td>\n",
       "      <td>0.123064</td>\n",
       "    </tr>\n",
       "    <tr>\n",
       "      <th>37</th>\n",
       "      <td>2015.5</td>\n",
       "      <td>0.498837</td>\n",
       "      <td>0.051103</td>\n",
       "      <td>0.032823</td>\n",
       "      <td>0.134247</td>\n",
       "      <td>82.207240</td>\n",
       "      <td>0.065791</td>\n",
       "      <td>1.733171</td>\n",
       "      <td>0.310312</td>\n",
       "      <td>0.727890</td>\n",
       "      <td>0.110069</td>\n",
       "    </tr>\n",
       "    <tr>\n",
       "      <th>38</th>\n",
       "      <td>2016.5</td>\n",
       "      <td>0.495204</td>\n",
       "      <td>0.047511</td>\n",
       "      <td>0.032913</td>\n",
       "      <td>0.131687</td>\n",
       "      <td>73.405837</td>\n",
       "      <td>0.072190</td>\n",
       "      <td>1.705113</td>\n",
       "      <td>0.293694</td>\n",
       "      <td>0.707002</td>\n",
       "      <td>0.105582</td>\n",
       "    </tr>\n",
       "    <tr>\n",
       "      <th rowspan=\"11\" valign=\"top\">COST:US</th>\n",
       "      <th>58</th>\n",
       "      <td>2006.5</td>\n",
       "      <td>0.124899</td>\n",
       "      <td>0.027155</td>\n",
       "      <td>0.017464</td>\n",
       "      <td>0.051632</td>\n",
       "      <td>21.278052</td>\n",
       "      <td>0.139987</td>\n",
       "      <td>0.395768</td>\n",
       "      <td>0.170314</td>\n",
       "      <td>0.351906</td>\n",
       "      <td>0.039334</td>\n",
       "    </tr>\n",
       "    <tr>\n",
       "      <th>59</th>\n",
       "      <td>2007.5</td>\n",
       "      <td>0.124990</td>\n",
       "      <td>0.027019</td>\n",
       "      <td>0.017382</td>\n",
       "      <td>0.050976</td>\n",
       "      <td>21.580755</td>\n",
       "      <td>0.137378</td>\n",
       "      <td>0.406864</td>\n",
       "      <td>0.169573</td>\n",
       "      <td>0.353249</td>\n",
       "      <td>0.039810</td>\n",
       "    </tr>\n",
       "    <tr>\n",
       "      <th>60</th>\n",
       "      <td>2008.5</td>\n",
       "      <td>0.125069</td>\n",
       "      <td>0.027203</td>\n",
       "      <td>0.017627</td>\n",
       "      <td>0.050899</td>\n",
       "      <td>21.932917</td>\n",
       "      <td>0.133301</td>\n",
       "      <td>0.420162</td>\n",
       "      <td>0.170623</td>\n",
       "      <td>0.369459</td>\n",
       "      <td>0.041921</td>\n",
       "    </tr>\n",
       "    <tr>\n",
       "      <th>61</th>\n",
       "      <td>2009.5</td>\n",
       "      <td>0.125151</td>\n",
       "      <td>0.027182</td>\n",
       "      <td>0.017620</td>\n",
       "      <td>0.050497</td>\n",
       "      <td>22.349438</td>\n",
       "      <td>0.130160</td>\n",
       "      <td>0.423605</td>\n",
       "      <td>0.170525</td>\n",
       "      <td>0.381475</td>\n",
       "      <td>0.042331</td>\n",
       "    </tr>\n",
       "    <tr>\n",
       "      <th>62</th>\n",
       "      <td>2010.5</td>\n",
       "      <td>0.125702</td>\n",
       "      <td>0.027485</td>\n",
       "      <td>0.017658</td>\n",
       "      <td>0.051047</td>\n",
       "      <td>23.000932</td>\n",
       "      <td>0.127627</td>\n",
       "      <td>0.448637</td>\n",
       "      <td>0.174237</td>\n",
       "      <td>0.412279</td>\n",
       "      <td>0.042924</td>\n",
       "    </tr>\n",
       "    <tr>\n",
       "      <th>63</th>\n",
       "      <td>2011.5</td>\n",
       "      <td>0.126714</td>\n",
       "      <td>0.027867</td>\n",
       "      <td>0.017803</td>\n",
       "      <td>0.051024</td>\n",
       "      <td>24.058094</td>\n",
       "      <td>0.122023</td>\n",
       "      <td>0.456062</td>\n",
       "      <td>0.174866</td>\n",
       "      <td>0.427608</td>\n",
       "      <td>0.043759</td>\n",
       "    </tr>\n",
       "    <tr>\n",
       "      <th>64</th>\n",
       "      <td>2012.5</td>\n",
       "      <td>0.127655</td>\n",
       "      <td>0.028555</td>\n",
       "      <td>0.018198</td>\n",
       "      <td>0.052822</td>\n",
       "      <td>24.123774</td>\n",
       "      <td>0.122712</td>\n",
       "      <td>0.483484</td>\n",
       "      <td>0.182669</td>\n",
       "      <td>0.471235</td>\n",
       "      <td>0.046099</td>\n",
       "    </tr>\n",
       "    <tr>\n",
       "      <th>65</th>\n",
       "      <td>2013.5</td>\n",
       "      <td>0.128279</td>\n",
       "      <td>0.029003</td>\n",
       "      <td>0.018642</td>\n",
       "      <td>0.053814</td>\n",
       "      <td>25.122682</td>\n",
       "      <td>0.118317</td>\n",
       "      <td>0.505678</td>\n",
       "      <td>0.185917</td>\n",
       "      <td>0.497449</td>\n",
       "      <td>0.050359</td>\n",
       "    </tr>\n",
       "    <tr>\n",
       "      <th>66</th>\n",
       "      <td>2014.5</td>\n",
       "      <td>0.128534</td>\n",
       "      <td>0.029617</td>\n",
       "      <td>0.019517</td>\n",
       "      <td>0.055270</td>\n",
       "      <td>26.617604</td>\n",
       "      <td>0.110531</td>\n",
       "      <td>0.544837</td>\n",
       "      <td>0.191347</td>\n",
       "      <td>0.524465</td>\n",
       "      <td>0.058648</td>\n",
       "    </tr>\n",
       "    <tr>\n",
       "      <th>67</th>\n",
       "      <td>2015.5</td>\n",
       "      <td>0.128853</td>\n",
       "      <td>0.030212</td>\n",
       "      <td>0.020245</td>\n",
       "      <td>0.057354</td>\n",
       "      <td>28.571092</td>\n",
       "      <td>0.102498</td>\n",
       "      <td>0.576705</td>\n",
       "      <td>0.196268</td>\n",
       "      <td>0.551810</td>\n",
       "      <td>0.063547</td>\n",
       "    </tr>\n",
       "    <tr>\n",
       "      <th>68</th>\n",
       "      <td>2016.5</td>\n",
       "      <td>0.129168</td>\n",
       "      <td>0.030892</td>\n",
       "      <td>0.021157</td>\n",
       "      <td>0.058727</td>\n",
       "      <td>30.257485</td>\n",
       "      <td>0.095620</td>\n",
       "      <td>0.608816</td>\n",
       "      <td>0.200725</td>\n",
       "      <td>0.585641</td>\n",
       "      <td>0.070960</td>\n",
       "    </tr>\n",
       "  </tbody>\n",
       "</table>\n",
       "</div>"
      ],
      "text/plain": [
       "            period_end_year  gross_margin  operating_margin  net_margin  \\\n",
       "ticker                                                                    \n",
       "AMZN:US 9            2006.5      0.174867          0.041759    0.026311   \n",
       "        10           2007.5      0.156403          0.041235    0.030039   \n",
       "        11           2008.5      0.139398          0.037095    0.029737   \n",
       "        12           2009.5      0.123212          0.031053    0.020970   \n",
       "        13           2010.5      0.107985          0.027498    0.017299   \n",
       "        14           2011.5      0.095364          0.026851    0.017269   \n",
       "        15           2012.5      0.082917          0.024684    0.015765   \n",
       "        16           2013.5      0.087933          0.025624    0.016725   \n",
       "        17           2014.5      0.092637          0.026201    0.017176   \n",
       "        18           2015.5      0.097173          0.028022    0.019333   \n",
       "        19           2016.5      0.104416          0.031525    0.025122   \n",
       "ASC:LN  29           2007.1      0.474494          0.013308   -0.060869   \n",
       "        30           2008.3      0.467720          0.070386    0.009903   \n",
       "        31           2009.5      0.464736          0.077414    0.055138   \n",
       "        32           2010.5      0.466126          0.073546    0.051863   \n",
       "        33           2011.5      0.475269          0.070927    0.046364   \n",
       "        34           2012.5      0.482552          0.067636    0.043868   \n",
       "        35           2013.5      0.487724          0.062927    0.041041   \n",
       "        36           2014.5      0.493187          0.055603    0.035890   \n",
       "        37           2015.5      0.498837          0.051103    0.032823   \n",
       "        38           2016.5      0.495204          0.047511    0.032913   \n",
       "COST:US 58           2006.5      0.124899          0.027155    0.017464   \n",
       "        59           2007.5      0.124990          0.027019    0.017382   \n",
       "        60           2008.5      0.125069          0.027203    0.017627   \n",
       "        61           2009.5      0.125151          0.027182    0.017620   \n",
       "        62           2010.5      0.125702          0.027485    0.017658   \n",
       "        63           2011.5      0.126714          0.027867    0.017803   \n",
       "        64           2012.5      0.127655          0.028555    0.018198   \n",
       "        65           2013.5      0.128279          0.029003    0.018642   \n",
       "        66           2014.5      0.128534          0.029617    0.019517   \n",
       "        67           2015.5      0.128853          0.030212    0.020245   \n",
       "        68           2016.5      0.129168          0.030892    0.021157   \n",
       "\n",
       "            fcf_margin    pe_ratio  fcf_yield       roic       roe       roa  \\\n",
       "ticker                                                                         \n",
       "AMZN:US 9     0.104219  110.044317   0.051323  82.717615  0.219789  0.668422   \n",
       "        10    0.111829 -177.089671   0.055405  82.805260  0.233531  0.781429   \n",
       "        11    0.115584 -170.440095   0.058237  83.171908  0.235717  0.914727   \n",
       "        12    0.119307 -233.409602   0.062760  83.105674  0.237081  1.312527   \n",
       "        13    0.123810 -185.460137   0.063207  83.117670  0.237410  1.055871   \n",
       "        14    0.132844 -178.972107   0.064281  83.139745  0.245074  0.967016   \n",
       "        15    0.137843 -168.406051   0.065075   1.752749  0.241600  0.933502   \n",
       "        16    0.145306 -164.492175   0.061540   1.380705  0.243035  0.954078   \n",
       "        17    0.148601 -163.172597   0.060966   1.260594  0.239226  0.966848   \n",
       "        18    0.161710 -162.539426   0.061627   1.215108  0.246903  1.009915   \n",
       "        19    0.171476 -169.934423   0.060365   1.115280  0.248487  1.009834   \n",
       "ASC:LN  29    0.052992   37.747459   0.031651   1.065156  0.218325  0.465089   \n",
       "        30    0.112768   48.216771   0.042291   1.207058  0.271822  0.553265   \n",
       "        31    0.130660   54.805091   0.053438   1.327421  0.312085  0.631110   \n",
       "        32    0.132120   57.262059   0.055239   1.352299  0.318825  0.650069   \n",
       "        33    0.128976   67.854470   0.055772   1.930888  0.319364  0.691716   \n",
       "        34    0.133650   71.947703   0.056365   2.013037  0.326505  0.741327   \n",
       "        35    0.128356   74.557287   0.054343   1.828993  0.316890  0.719823   \n",
       "        36    0.126902   80.488007   0.060219   1.722395  0.307311  0.705831   \n",
       "        37    0.134247   82.207240   0.065791   1.733171  0.310312  0.727890   \n",
       "        38    0.131687   73.405837   0.072190   1.705113  0.293694  0.707002   \n",
       "COST:US 58    0.051632   21.278052   0.139987   0.395768  0.170314  0.351906   \n",
       "        59    0.050976   21.580755   0.137378   0.406864  0.169573  0.353249   \n",
       "        60    0.050899   21.932917   0.133301   0.420162  0.170623  0.369459   \n",
       "        61    0.050497   22.349438   0.130160   0.423605  0.170525  0.381475   \n",
       "        62    0.051047   23.000932   0.127627   0.448637  0.174237  0.412279   \n",
       "        63    0.051024   24.058094   0.122023   0.456062  0.174866  0.427608   \n",
       "        64    0.052822   24.123774   0.122712   0.483484  0.182669  0.471235   \n",
       "        65    0.053814   25.122682   0.118317   0.505678  0.185917  0.497449   \n",
       "        66    0.055270   26.617604   0.110531   0.544837  0.191347  0.524465   \n",
       "        67    0.057354   28.571092   0.102498   0.576705  0.196268  0.551810   \n",
       "        68    0.058727   30.257485   0.095620   0.608816  0.200725  0.585641   \n",
       "\n",
       "                roce  \n",
       "ticker                \n",
       "AMZN:US 9   0.074891  \n",
       "        10  0.086822  \n",
       "        11  0.083187  \n",
       "        12  0.036990  \n",
       "        13  0.024784  \n",
       "        14  0.030047  \n",
       "        15  0.024217  \n",
       "        16  0.022965  \n",
       "        17  0.018969  \n",
       "        18  0.018571  \n",
       "        19  0.025540  \n",
       "ASC:LN  29  0.025508  \n",
       "        30  0.074011  \n",
       "        31  0.180279  \n",
       "        32  0.166403  \n",
       "        33  0.147887  \n",
       "        34  0.145877  \n",
       "        35  0.143007  \n",
       "        36  0.123064  \n",
       "        37  0.110069  \n",
       "        38  0.105582  \n",
       "COST:US 58  0.039334  \n",
       "        59  0.039810  \n",
       "        60  0.041921  \n",
       "        61  0.042331  \n",
       "        62  0.042924  \n",
       "        63  0.043759  \n",
       "        64  0.046099  \n",
       "        65  0.050359  \n",
       "        66  0.058648  \n",
       "        67  0.063547  \n",
       "        68  0.070960  "
      ]
     },
     "execution_count": 83,
     "metadata": {},
     "output_type": "execute_result"
    }
   ],
   "source": [
    "# calculate 5 year roic\n",
    "\n",
    "# get max year\n",
    "m_df.groupby('ticker').max()['period_end_year']\n",
    "\n",
    "\n",
    "# max_years = \n",
    "# # return records from that year -5\n",
    "# filt = (df.profit_end_year in )\n",
    "\n"
   ]
  },
  {
   "cell_type": "code",
   "execution_count": null,
   "id": "849d160d",
   "metadata": {},
   "outputs": [],
   "source": []
  },
  {
   "cell_type": "code",
   "execution_count": null,
   "id": "da0ba5de",
   "metadata": {},
   "outputs": [],
   "source": []
  },
  {
   "cell_type": "code",
   "execution_count": null,
   "id": "96a2c1c0",
   "metadata": {},
   "outputs": [],
   "source": []
  },
  {
   "cell_type": "code",
   "execution_count": null,
   "id": "200926ac",
   "metadata": {},
   "outputs": [],
   "source": []
  },
  {
   "cell_type": "code",
   "execution_count": null,
   "id": "3b4f7943",
   "metadata": {},
   "outputs": [],
   "source": []
  },
  {
   "cell_type": "code",
   "execution_count": null,
   "id": "e5c5ca9c",
   "metadata": {},
   "outputs": [],
   "source": []
  },
  {
   "cell_type": "code",
   "execution_count": null,
   "id": "81332b0e",
   "metadata": {},
   "outputs": [],
   "source": [
    "# # legacy\n",
    "\n",
    "# # perdio year/month\n",
    "# df['period_end_year'] = df.period_end_date.str.split('-',expand=True)[0].astype('int64')\n",
    "# df['period_end_month'] = df.period_end_date.str.split('-',expand=True)[1].astype('int64')\n",
    "# df = df.drop(columns=['period_end_date'])"
   ]
  },
  {
   "cell_type": "code",
   "execution_count": 59,
   "id": "ae921e33",
   "metadata": {},
   "outputs": [
    {
     "data": {
      "text/html": [
       "<div>\n",
       "<style scoped>\n",
       "    .dataframe tbody tr th:only-of-type {\n",
       "        vertical-align: middle;\n",
       "    }\n",
       "\n",
       "    .dataframe tbody tr th {\n",
       "        vertical-align: top;\n",
       "    }\n",
       "\n",
       "    .dataframe thead th {\n",
       "        text-align: right;\n",
       "    }\n",
       "</style>\n",
       "<table border=\"1\" class=\"dataframe\">\n",
       "  <thead>\n",
       "    <tr style=\"text-align: right;\">\n",
       "      <th></th>\n",
       "      <th>ticker</th>\n",
       "      <th>period_end_date</th>\n",
       "      <th>period_end_month</th>\n",
       "      <th>period_end_year</th>\n",
       "      <th>period_end_price</th>\n",
       "      <th>revenue</th>\n",
       "      <th>cogs</th>\n",
       "      <th>gross_profit</th>\n",
       "      <th>sga</th>\n",
       "      <th>rnd</th>\n",
       "      <th>...</th>\n",
       "      <th>cfi_ppe_net</th>\n",
       "      <th>cfi_acquisitions_net</th>\n",
       "      <th>cfi_investment_net</th>\n",
       "      <th>cfi_intangibles_net</th>\n",
       "      <th>cff_common_stock_net</th>\n",
       "      <th>cff_debt_net</th>\n",
       "      <th>cff_dividend_paid</th>\n",
       "      <th>cf_cff</th>\n",
       "      <th>market_cap</th>\n",
       "      <th>fcf</th>\n",
       "    </tr>\n",
       "  </thead>\n",
       "  <tbody>\n",
       "    <tr>\n",
       "      <th>0</th>\n",
       "      <td>ASC:LN</td>\n",
       "      <td>2001-12</td>\n",
       "      <td>12</td>\n",
       "      <td>2001</td>\n",
       "      <td>0.160</td>\n",
       "      <td>1.702</td>\n",
       "      <td>0.705</td>\n",
       "      <td>0.997</td>\n",
       "      <td>0.000</td>\n",
       "      <td>0.0</td>\n",
       "      <td>...</td>\n",
       "      <td>-0.026</td>\n",
       "      <td>0.360</td>\n",
       "      <td>0.0</td>\n",
       "      <td>0.000</td>\n",
       "      <td>0.071</td>\n",
       "      <td>0.456</td>\n",
       "      <td>0.0</td>\n",
       "      <td>0.527</td>\n",
       "      <td>9.860800</td>\n",
       "      <td>-0.836</td>\n",
       "    </tr>\n",
       "    <tr>\n",
       "      <th>1</th>\n",
       "      <td>ASC:LN</td>\n",
       "      <td>2002-12</td>\n",
       "      <td>12</td>\n",
       "      <td>2002</td>\n",
       "      <td>0.053</td>\n",
       "      <td>4.104</td>\n",
       "      <td>1.941</td>\n",
       "      <td>2.163</td>\n",
       "      <td>0.000</td>\n",
       "      <td>0.0</td>\n",
       "      <td>...</td>\n",
       "      <td>-0.028</td>\n",
       "      <td>0.000</td>\n",
       "      <td>0.0</td>\n",
       "      <td>0.000</td>\n",
       "      <td>0.000</td>\n",
       "      <td>-0.049</td>\n",
       "      <td>0.0</td>\n",
       "      <td>-0.049</td>\n",
       "      <td>3.266390</td>\n",
       "      <td>-0.239</td>\n",
       "    </tr>\n",
       "    <tr>\n",
       "      <th>2</th>\n",
       "      <td>ASC:LN</td>\n",
       "      <td>2004-03</td>\n",
       "      <td>3</td>\n",
       "      <td>2004</td>\n",
       "      <td>0.139</td>\n",
       "      <td>0.000</td>\n",
       "      <td>0.000</td>\n",
       "      <td>0.000</td>\n",
       "      <td>0.000</td>\n",
       "      <td>0.0</td>\n",
       "      <td>...</td>\n",
       "      <td>0.000</td>\n",
       "      <td>0.000</td>\n",
       "      <td>0.0</td>\n",
       "      <td>0.000</td>\n",
       "      <td>0.000</td>\n",
       "      <td>0.000</td>\n",
       "      <td>0.0</td>\n",
       "      <td>0.000</td>\n",
       "      <td>9.449220</td>\n",
       "      <td>0.000</td>\n",
       "    </tr>\n",
       "    <tr>\n",
       "      <th>3</th>\n",
       "      <td>ASC:LN</td>\n",
       "      <td>2005-03</td>\n",
       "      <td>3</td>\n",
       "      <td>2005</td>\n",
       "      <td>0.530</td>\n",
       "      <td>13.518</td>\n",
       "      <td>6.928</td>\n",
       "      <td>6.590</td>\n",
       "      <td>0.000</td>\n",
       "      <td>0.0</td>\n",
       "      <td>...</td>\n",
       "      <td>-0.299</td>\n",
       "      <td>0.000</td>\n",
       "      <td>0.0</td>\n",
       "      <td>0.000</td>\n",
       "      <td>0.152</td>\n",
       "      <td>0.000</td>\n",
       "      <td>0.0</td>\n",
       "      <td>0.152</td>\n",
       "      <td>38.024320</td>\n",
       "      <td>0.903</td>\n",
       "    </tr>\n",
       "    <tr>\n",
       "      <th>4</th>\n",
       "      <td>ASC:LN</td>\n",
       "      <td>2006-03</td>\n",
       "      <td>3</td>\n",
       "      <td>2006</td>\n",
       "      <td>0.965</td>\n",
       "      <td>19.716</td>\n",
       "      <td>11.664</td>\n",
       "      <td>8.052</td>\n",
       "      <td>0.268</td>\n",
       "      <td>0.0</td>\n",
       "      <td>...</td>\n",
       "      <td>-0.901</td>\n",
       "      <td>0.000</td>\n",
       "      <td>0.0</td>\n",
       "      <td>0.000</td>\n",
       "      <td>0.016</td>\n",
       "      <td>0.000</td>\n",
       "      <td>0.0</td>\n",
       "      <td>0.016</td>\n",
       "      <td>69.388325</td>\n",
       "      <td>1.682</td>\n",
       "    </tr>\n",
       "    <tr>\n",
       "      <th>...</th>\n",
       "      <td>...</td>\n",
       "      <td>...</td>\n",
       "      <td>...</td>\n",
       "      <td>...</td>\n",
       "      <td>...</td>\n",
       "      <td>...</td>\n",
       "      <td>...</td>\n",
       "      <td>...</td>\n",
       "      <td>...</td>\n",
       "      <td>...</td>\n",
       "      <td>...</td>\n",
       "      <td>...</td>\n",
       "      <td>...</td>\n",
       "      <td>...</td>\n",
       "      <td>...</td>\n",
       "      <td>...</td>\n",
       "      <td>...</td>\n",
       "      <td>...</td>\n",
       "      <td>...</td>\n",
       "      <td>...</td>\n",
       "      <td>...</td>\n",
       "    </tr>\n",
       "    <tr>\n",
       "      <th>77</th>\n",
       "      <td>ZLNDY:US</td>\n",
       "      <td>2017-12</td>\n",
       "      <td>12</td>\n",
       "      <td>2017</td>\n",
       "      <td>26.810</td>\n",
       "      <td>5312.426</td>\n",
       "      <td>2993.609</td>\n",
       "      <td>2318.817</td>\n",
       "      <td>2099.053</td>\n",
       "      <td>0.0</td>\n",
       "      <td>...</td>\n",
       "      <td>-223.787</td>\n",
       "      <td>-41.302</td>\n",
       "      <td>0.0</td>\n",
       "      <td>-64.852</td>\n",
       "      <td>-8.758</td>\n",
       "      <td>-3.787</td>\n",
       "      <td>0.0</td>\n",
       "      <td>-12.544</td>\n",
       "      <td>13255.185720</td>\n",
       "      <td>-59.408</td>\n",
       "    </tr>\n",
       "    <tr>\n",
       "      <th>78</th>\n",
       "      <td>ZLNDY:US</td>\n",
       "      <td>2018-12</td>\n",
       "      <td>12</td>\n",
       "      <td>2018</td>\n",
       "      <td>13.060</td>\n",
       "      <td>6129.579</td>\n",
       "      <td>3534.699</td>\n",
       "      <td>2594.881</td>\n",
       "      <td>2466.553</td>\n",
       "      <td>0.0</td>\n",
       "      <td>...</td>\n",
       "      <td>-190.216</td>\n",
       "      <td>-8.077</td>\n",
       "      <td>0.0</td>\n",
       "      <td>-59.499</td>\n",
       "      <td>-83.163</td>\n",
       "      <td>-3.185</td>\n",
       "      <td>0.0</td>\n",
       "      <td>-86.348</td>\n",
       "      <td>6474.377460</td>\n",
       "      <td>-7.622</td>\n",
       "    </tr>\n",
       "    <tr>\n",
       "      <th>79</th>\n",
       "      <td>ZLNDY:US</td>\n",
       "      <td>2019-12</td>\n",
       "      <td>12</td>\n",
       "      <td>2019</td>\n",
       "      <td>25.120</td>\n",
       "      <td>7202.778</td>\n",
       "      <td>4138.111</td>\n",
       "      <td>3064.667</td>\n",
       "      <td>912.333</td>\n",
       "      <td>0.0</td>\n",
       "      <td>...</td>\n",
       "      <td>-234.667</td>\n",
       "      <td>-1.889</td>\n",
       "      <td>0.0</td>\n",
       "      <td>-80.889</td>\n",
       "      <td>-0.333</td>\n",
       "      <td>-3.111</td>\n",
       "      <td>0.0</td>\n",
       "      <td>-63.667</td>\n",
       "      <td>12493.733440</td>\n",
       "      <td>48.000</td>\n",
       "    </tr>\n",
       "    <tr>\n",
       "      <th>80</th>\n",
       "      <td>ZLNDY:US</td>\n",
       "      <td>2020-12</td>\n",
       "      <td>12</td>\n",
       "      <td>2020</td>\n",
       "      <td>55.230</td>\n",
       "      <td>9710.462</td>\n",
       "      <td>5581.265</td>\n",
       "      <td>4129.197</td>\n",
       "      <td>1192.336</td>\n",
       "      <td>0.0</td>\n",
       "      <td>...</td>\n",
       "      <td>-176.277</td>\n",
       "      <td>-31.022</td>\n",
       "      <td>0.0</td>\n",
       "      <td>-88.200</td>\n",
       "      <td>67.032</td>\n",
       "      <td>1662.044</td>\n",
       "      <td>0.0</td>\n",
       "      <td>1647.324</td>\n",
       "      <td>27990.287850</td>\n",
       "      <td>377.129</td>\n",
       "    </tr>\n",
       "    <tr>\n",
       "      <th>81</th>\n",
       "      <td>ZLNDY:US</td>\n",
       "      <td>2021-12</td>\n",
       "      <td>12</td>\n",
       "      <td>2021</td>\n",
       "      <td>40.410</td>\n",
       "      <td>11699.435</td>\n",
       "      <td>6811.073</td>\n",
       "      <td>4888.362</td>\n",
       "      <td>1495.480</td>\n",
       "      <td>0.0</td>\n",
       "      <td>...</td>\n",
       "      <td>-271.638</td>\n",
       "      <td>0.000</td>\n",
       "      <td>0.0</td>\n",
       "      <td>-104.520</td>\n",
       "      <td>-200.565</td>\n",
       "      <td>-426.780</td>\n",
       "      <td>0.0</td>\n",
       "      <td>-722.938</td>\n",
       "      <td>20909.669580</td>\n",
       "      <td>320.113</td>\n",
       "    </tr>\n",
       "  </tbody>\n",
       "</table>\n",
       "<p>82 rows × 44 columns</p>\n",
       "</div>"
      ],
      "text/plain": [
       "      ticker period_end_date  period_end_month  period_end_year  \\\n",
       "0     ASC:LN         2001-12                12             2001   \n",
       "1     ASC:LN         2002-12                12             2002   \n",
       "2     ASC:LN         2004-03                 3             2004   \n",
       "3     ASC:LN         2005-03                 3             2005   \n",
       "4     ASC:LN         2006-03                 3             2006   \n",
       "..       ...             ...               ...              ...   \n",
       "77  ZLNDY:US         2017-12                12             2017   \n",
       "78  ZLNDY:US         2018-12                12             2018   \n",
       "79  ZLNDY:US         2019-12                12             2019   \n",
       "80  ZLNDY:US         2020-12                12             2020   \n",
       "81  ZLNDY:US         2021-12                12             2021   \n",
       "\n",
       "    period_end_price    revenue      cogs  gross_profit       sga  rnd  ...  \\\n",
       "0              0.160      1.702     0.705         0.997     0.000  0.0  ...   \n",
       "1              0.053      4.104     1.941         2.163     0.000  0.0  ...   \n",
       "2              0.139      0.000     0.000         0.000     0.000  0.0  ...   \n",
       "3              0.530     13.518     6.928         6.590     0.000  0.0  ...   \n",
       "4              0.965     19.716    11.664         8.052     0.268  0.0  ...   \n",
       "..               ...        ...       ...           ...       ...  ...  ...   \n",
       "77            26.810   5312.426  2993.609      2318.817  2099.053  0.0  ...   \n",
       "78            13.060   6129.579  3534.699      2594.881  2466.553  0.0  ...   \n",
       "79            25.120   7202.778  4138.111      3064.667   912.333  0.0  ...   \n",
       "80            55.230   9710.462  5581.265      4129.197  1192.336  0.0  ...   \n",
       "81            40.410  11699.435  6811.073      4888.362  1495.480  0.0  ...   \n",
       "\n",
       "    cfi_ppe_net  cfi_acquisitions_net  cfi_investment_net  \\\n",
       "0        -0.026                 0.360                 0.0   \n",
       "1        -0.028                 0.000                 0.0   \n",
       "2         0.000                 0.000                 0.0   \n",
       "3        -0.299                 0.000                 0.0   \n",
       "4        -0.901                 0.000                 0.0   \n",
       "..          ...                   ...                 ...   \n",
       "77     -223.787               -41.302                 0.0   \n",
       "78     -190.216                -8.077                 0.0   \n",
       "79     -234.667                -1.889                 0.0   \n",
       "80     -176.277               -31.022                 0.0   \n",
       "81     -271.638                 0.000                 0.0   \n",
       "\n",
       "    cfi_intangibles_net  cff_common_stock_net  cff_debt_net  \\\n",
       "0                 0.000                 0.071         0.456   \n",
       "1                 0.000                 0.000        -0.049   \n",
       "2                 0.000                 0.000         0.000   \n",
       "3                 0.000                 0.152         0.000   \n",
       "4                 0.000                 0.016         0.000   \n",
       "..                  ...                   ...           ...   \n",
       "77              -64.852                -8.758        -3.787   \n",
       "78              -59.499               -83.163        -3.185   \n",
       "79              -80.889                -0.333        -3.111   \n",
       "80              -88.200                67.032      1662.044   \n",
       "81             -104.520              -200.565      -426.780   \n",
       "\n",
       "    cff_dividend_paid    cf_cff    market_cap      fcf  \n",
       "0                 0.0     0.527      9.860800   -0.836  \n",
       "1                 0.0    -0.049      3.266390   -0.239  \n",
       "2                 0.0     0.000      9.449220    0.000  \n",
       "3                 0.0     0.152     38.024320    0.903  \n",
       "4                 0.0     0.016     69.388325    1.682  \n",
       "..                ...       ...           ...      ...  \n",
       "77                0.0   -12.544  13255.185720  -59.408  \n",
       "78                0.0   -86.348   6474.377460   -7.622  \n",
       "79                0.0   -63.667  12493.733440   48.000  \n",
       "80                0.0  1647.324  27990.287850  377.129  \n",
       "81                0.0  -722.938  20909.669580  320.113  \n",
       "\n",
       "[82 rows x 44 columns]"
      ]
     },
     "execution_count": 59,
     "metadata": {},
     "output_type": "execute_result"
    }
   ],
   "source": [
    "# legacy working load data function logic\n",
    "# load data\n",
    "data_path = Path(Path().absolute().parent, 'data', 'financials.csv')\n",
    "df = pd.read_csv(data_path)\n",
    "\n",
    "# drop empty columns\n",
    "df = df[(df.period_end_date != '0')]\n",
    "\n",
    "# rename columns\n",
    "df.rename(columns={'Unnamed: 0':'ticker'}, inplace=True)\n",
    "\n",
    "# extract month/yeat\n",
    "df['period_end_year'] = df.period_end_date.str.split('-',expand=True)[0].astype('int64')\n",
    "df['period_end_month'] = df.period_end_date.str.split('-',expand=True)[1].astype('int64')\n",
    "\n",
    "# non int fileds to index \n",
    "df = df.set_index(['ticker','period_end_date', 'period_end_month', 'period_end_year', 'period_end_price'])\n",
    "\n",
    "# convert to mil\n",
    "df = df / 1000000\n",
    "\n",
    "# return columns\n",
    "df = df.reset_index()\n",
    "\n",
    "# calculate metrics\n",
    "df['fcf'] = df.cf_cfo + df.cfi_ppe_net + df.cfi_intangibles_net\n",
    "\n",
    "df"
   ]
  },
  {
   "cell_type": "code",
   "execution_count": null,
   "id": "cf5f2751",
   "metadata": {},
   "outputs": [],
   "source": [
    "\n",
    "\n",
    "# # create index logic\n",
    "\n",
    "# # generate list of numbers matched with tickers\n",
    "# tmap = {v:k for k,v in enumerate(df.ticker.unique())}\n",
    "\n",
    "# # map the list and insert to df\n",
    "# t_index = df.ticker.map(tmap)\n",
    "# df.insert(0,'index',t_index)\n",
    "\n"
   ]
  },
  {
   "cell_type": "code",
   "execution_count": null,
   "id": "09905871",
   "metadata": {},
   "outputs": [],
   "source": [
    "# # create id mapping\n",
    "\n",
    "# tmap = {v:k for k,v in enumerate(df.ticker.unique())}\n",
    "\n",
    "# tindex = df.ticker.map(tmap)\n",
    "# df.insert(0,t_index)"
   ]
  },
  {
   "cell_type": "code",
   "execution_count": 60,
   "id": "28b031f2",
   "metadata": {},
   "outputs": [],
   "source": [
    "# # legacy\n",
    "\n",
    "# data_path = Path(Path().absolute().parent, 'data', 'financials.csv')\n",
    "# df = pd.read_csv(data_path)\n",
    "# df = df.dropna()\n",
    "# df['period_end_year'] = df.period_end_date.str.split('-',expand=True)[0].astype('int64')\n",
    "# df['period_end_month'] = df.period_end_date.str.split('-',expand=True)[1].astype('int64')\n",
    "# df = df.drop(columns=['period_end_date'])\n",
    "\n",
    "# # convert to mil\n",
    "# df = df / 1000000\n",
    "# df = df.dropna(axis=0,how='all')\n",
    "# df = df.reset_index()\n",
    "\n",
    "# # add calculated features\n",
    "# # fcf need to be minuses cfo has negative values\n",
    "# df['fcf'] = df.cf_cfo + df.cfi_ppe_net + df.cfi_intangibles_net"
   ]
  },
  {
   "cell_type": "code",
   "execution_count": null,
   "id": "1828b85a",
   "metadata": {},
   "outputs": [],
   "source": [
    "# # legacy load data functioun\n",
    "# # load data\n",
    "#     data_path = Path(Path().absolute().parent, 'data', 'financials.csv')\n",
    "#     df = pd.read_csv(data_path)\n",
    "\n",
    "#     # rename columns\n",
    "#     df.rename(columns={'Unnamed: 0':'ticker'}, inplace=True)\n",
    "#     # put non int data in the index \n",
    "#     df = df.set_index(['ticker','period_end_date', 'period_end_price'])\n",
    "\n",
    "#     # convert to mil\n",
    "#     df = df / 1000000\n",
    "#     df = df.dropna(axis=0,how='all')\n",
    "\n",
    "#     # return columns\n",
    "#     df = df.reset_index()\n",
    "\n",
    "#     # calculate metrics\n",
    "#     df['fcf'] = df.cf_cfo + df.cfi_ppe_net + df.cfi_intangibles_net"
   ]
  }
 ],
 "metadata": {
  "kernelspec": {
   "display_name": "Python 3 (ipykernel)",
   "language": "python",
   "name": "python3"
  },
  "language_info": {
   "codemirror_mode": {
    "name": "ipython",
    "version": 3
   },
   "file_extension": ".py",
   "mimetype": "text/x-python",
   "name": "python",
   "nbconvert_exporter": "python",
   "pygments_lexer": "ipython3",
   "version": "3.9.12"
  }
 },
 "nbformat": 4,
 "nbformat_minor": 5
}
