{
 "cells": [
  {
   "cell_type": "code",
   "execution_count": 129,
   "id": "161dc598",
   "metadata": {},
   "outputs": [],
   "source": [
    "## notebook for testing & parsing quickfs api\n",
    "\n",
    "# todo:  \n",
    "# [] metrics\n",
    "#     [] margins\n",
    "#     [] 10 year, 5 year growth rates\n",
    "#     [] 10 year, 5 year return metrics\n",
    "#     [] fcf\n",
    "#     [] yields\n",
    "# [] analysis functions\n",
    "#     [] dcf\n",
    "#     [] company test (shareholders equity growth /r&d ect )\n",
    "# [] proper python project structure \n",
    "# [] write script ingest data \n",
    "# [] hide api key\n",
    "\n",
    "\n"
   ]
  },
  {
   "cell_type": "code",
   "execution_count": 1,
   "id": "07276616",
   "metadata": {},
   "outputs": [
    {
     "name": "stdout",
     "output_type": "stream",
     "text": [
      "Collecting quickfs\n",
      "  Downloading quickfs-0.1.1-py3-none-any.whl (10 kB)\n",
      "Installing collected packages: quickfs\n",
      "Successfully installed quickfs-0.1.1\n",
      "Note: you may need to restart the kernel to use updated packages.\n"
     ]
    }
   ],
   "source": [
    "pip install quickfs"
   ]
  },
  {
   "cell_type": "code",
   "execution_count": 1,
   "id": "f307857b",
   "metadata": {},
   "outputs": [],
   "source": [
    "# import libs\n",
    "\n",
    "from quickfs import QuickFS\n",
    "import os\n",
    "from pathlib import Path\n",
    "import json\n",
    "import pandas as pd"
   ]
  },
  {
   "cell_type": "code",
   "execution_count": 21,
   "id": "3c95be02",
   "metadata": {},
   "outputs": [
    {
     "data": {
      "text/plain": [
       "{'quota': {'used': 623, 'remaining': -123, 'resets': '2022-10-17T23:00:00Z'}}"
      ]
     },
     "execution_count": 21,
     "metadata": {},
     "output_type": "execute_result"
    }
   ],
   "source": [
    "# load the key from the enviroment variables\n",
    "api_key = 'c88fedbb6174ed4d87f7972f4cb73325d7beb7c9'\n",
    "\n",
    "# example functionality\n",
    "client = QuickFS(api_key)\n",
    "\n",
    "# # Request reference data for the supported companies\n",
    "# resp = client.get_api_metadata()\n",
    "# resp = client.get_supported_companies(country='US', exchange='NYSE')\n",
    "\n",
    "# Usage history\n",
    "resp = client.get_usage()\n",
    "\n",
    "# # Metric Metadata\n",
    "# resp = client.get_available_metrics()\n",
    "\n",
    "# This property contains the raw form of the request object.\n",
    "resp\n",
    "\n"
   ]
  },
  {
   "cell_type": "code",
   "execution_count": 3,
   "id": "db35e685",
   "metadata": {},
   "outputs": [],
   "source": [
    "# list of minimum metrics I would need to do useful analysis:\n",
    "\n",
    "# Income statement\n",
    "\n",
    "income = ['revenue', 'cogs', 'gross_profit', 'sga', 'rnd', 'operating_income', 'ebit','income_tax', 'interest_expense','net_income', 'shares_diluted']\n",
    "\n",
    "# balance sheet\n",
    "\n",
    "balance = ['cash_and_equiv','receivables', 'inventories',\n",
    " 'total_current_assets','equity_and_other_investments','ppe_net',\n",
    " 'intangible_assets', 'goodwill','total_assets', 'accounts_payable',\n",
    " 'tax_payable', 'st_debt', 'total_current_liabilities', 'lt_debt',\n",
    " 'noncurrent_capital_leases',\n",
    " 'total_liabilities',\n",
    " 'retained_earnings',\n",
    " 'total_equity']\n",
    "\n",
    "# cashflow statement\n",
    "cashflow = ['cf_cfo', 'cfi_ppe_net', 'cfi_acquisitions_net', 'cfi_investment_net', 'cfi_intangibles_net','cff_common_stock_net', 'cff_debt_net', 'cff_dividend_paid', 'cf_cff']\n",
    "\n",
    "# price info\n",
    "price =  ['market_cap', 'period_end_price', 'name', 'period_end_date']\n",
    "\n",
    "metrics = income + balance + cashflow + price\n"
   ]
  },
  {
   "cell_type": "code",
   "execution_count": 20,
   "id": "bf2cd280",
   "metadata": {},
   "outputs": [
    {
     "name": "stdout",
     "output_type": "stream",
     "text": [
      "number of metrics: 42 \n",
      "companies to download per day: 11\n"
     ]
    }
   ],
   "source": [
    "# companies per day\n",
    "n_metrics = len(metrics )\n",
    "print('number of metrics:',n_metrics, '\\ncompanies to download per day:', 500 // n_metrics)\n"
   ]
  },
  {
   "cell_type": "code",
   "execution_count": 15,
   "id": "4ff23f78",
   "metadata": {},
   "outputs": [],
   "source": [
    "# example of 20 year data batch request\n",
    "data = client.get_data_batch(companies=['KO:US', 'PEP:US'], metrics=['revenue','cogs'], period=\"FY-20:FY\")\n"
   ]
  },
  {
   "cell_type": "code",
   "execution_count": 6,
   "id": "ebf8518d",
   "metadata": {},
   "outputs": [
    {
     "data": {
      "text/plain": [
       "array(['ASC:LN', 'BOO:LN', 'AMZN:US', 'COST:US', 'ZLNDY:US'], dtype=object)"
      ]
     },
     "execution_count": 6,
     "metadata": {},
     "output_type": "execute_result"
    }
   ],
   "source": [
    "# load tickers from csv\n",
    "\n",
    "ticker_path = Path(Path().absolute().parent, 'data', 'tickers.csv')\n",
    "ticker_path\n",
    "\n",
    "tickers = pd.read_csv(ticker_path).ticker.values\n",
    "tickers\n",
    "# [x for x in p.iterdir() if x.is_dir()]"
   ]
  },
  {
   "cell_type": "code",
   "execution_count": 19,
   "id": "5a703a57",
   "metadata": {},
   "outputs": [],
   "source": [
    "client.get_data_batch(companies=tickers, metrics=metrics, period=\"FY-20:\")\n"
   ]
  },
  {
   "cell_type": "code",
   "execution_count": 18,
   "id": "e7a284c5",
   "metadata": {},
   "outputs": [],
   "source": [
    "data"
   ]
  },
  {
   "cell_type": "code",
   "execution_count": 9,
   "id": "e4ba26c2",
   "metadata": {},
   "outputs": [],
   "source": [
    "# # example of data load and parse process\n",
    "\n",
    "\n",
    "import json\n",
    "import pandas as pd\n",
    "\n",
    "type(data)\n",
    "\n",
    "# j_data = json.loads(data)\n",
    "df = pd.DataFrame.from_dict(data, orient='columns')\n",
    "\n",
    "tdf = df\n",
    "# "
   ]
  },
  {
   "cell_type": "code",
   "execution_count": 14,
   "id": "1edc1a99",
   "metadata": {},
   "outputs": [
    {
     "ename": "TypeError",
     "evalue": "object of type 'NoneType' has no len()",
     "output_type": "error",
     "traceback": [
      "\u001b[0;31m---------------------------------------------------------------------------\u001b[0m",
      "\u001b[0;31mTypeError\u001b[0m                                 Traceback (most recent call last)",
      "Input \u001b[0;32mIn [14]\u001b[0m, in \u001b[0;36m<cell line: 1>\u001b[0;34m()\u001b[0m\n\u001b[0;32m----> 1\u001b[0m \u001b[38;5;28;43mlen\u001b[39;49m\u001b[43m(\u001b[49m\u001b[43mdata\u001b[49m\u001b[43m)\u001b[49m\n",
      "\u001b[0;31mTypeError\u001b[0m: object of type 'NoneType' has no len()"
     ]
    }
   ],
   "source": [
    "len(data)"
   ]
  },
  {
   "cell_type": "code",
   "execution_count": null,
   "id": "6800b803",
   "metadata": {},
   "outputs": [],
   "source": [
    "metrics.remove('name')\n",
    "tdf = tdf.drop(columns='name')\n",
    "tdf = tdf.explode(metrics)\n",
    "\n",
    "f_path = Path(Path().absolute().parent, 'data', 'financials.csv')\n",
    "tdf.to_csv(f_path)\n",
    "\n",
    "tdf.info()"
   ]
  },
  {
   "cell_type": "code",
   "execution_count": null,
   "id": "3a24113c",
   "metadata": {},
   "outputs": [],
   "source": []
  }
 ],
 "metadata": {
  "kernelspec": {
   "display_name": "Python 3 (ipykernel)",
   "language": "python",
   "name": "python3"
  },
  "language_info": {
   "codemirror_mode": {
    "name": "ipython",
    "version": 3
   },
   "file_extension": ".py",
   "mimetype": "text/x-python",
   "name": "python",
   "nbconvert_exporter": "python",
   "pygments_lexer": "ipython3",
   "version": "3.9.12"
  }
 },
 "nbformat": 4,
 "nbformat_minor": 5
}
