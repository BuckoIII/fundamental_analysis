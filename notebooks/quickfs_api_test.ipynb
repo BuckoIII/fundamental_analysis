{
 "cells": [
  {
   "cell_type": "code",
   "execution_count": 129,
   "id": "161dc598",
   "metadata": {},
   "outputs": [],
   "source": [
    "## notebook for testing & parsing quickfs api\n",
    "\n",
    "# todo:  \n",
    "# [] metrics\n",
    "#     [] margins\n",
    "#     [] 10 year, 5 year growth rates\n",
    "#     [] 10 year, 5 year return metrics\n",
    "#     [] fcf\n",
    "#     [] yields\n",
    "# [] analysis functions\n",
    "#     [] dcf\n",
    "#     [] company test (shareholders equity growth /r&d ect )\n",
    "# [] proper python project structure \n",
    "# [] write script ingest data \n",
    "# [] hide api key\n",
    "\n",
    "\n"
   ]
  },
  {
   "cell_type": "code",
   "execution_count": 1,
   "id": "07276616",
   "metadata": {},
   "outputs": [
    {
     "name": "stdout",
     "output_type": "stream",
     "text": [
      "Collecting quickfs\n",
      "  Downloading quickfs-0.1.1-py3-none-any.whl (10 kB)\n",
      "Installing collected packages: quickfs\n",
      "Successfully installed quickfs-0.1.1\n",
      "Note: you may need to restart the kernel to use updated packages.\n"
     ]
    }
   ],
   "source": [
    "pip install quickfs"
   ]
  },
  {
   "cell_type": "code",
   "execution_count": null,
   "id": "f307857b",
   "metadata": {},
   "outputs": [],
   "source": [
    "# import libs\n",
    "\n",
    "from quickfs import QuickFS\n",
    "import os\n",
    "from pathlib import Path\n",
    "import json\n",
    "import pandas as pd"
   ]
  },
  {
   "cell_type": "code",
   "execution_count": 2,
   "id": "3c95be02",
   "metadata": {},
   "outputs": [
    {
     "data": {
      "text/plain": [
       "<Response [200]>"
      ]
     },
     "execution_count": 2,
     "metadata": {},
     "output_type": "execute_result"
    }
   ],
   "source": [
    "# load the key from the enviroment variables\n",
    "api_key = 'c88fedbb6174ed4d87f7972f4cb73325d7beb7c9'\n",
    "\n",
    "# example functionality\n",
    "client = QuickFS(api_key)\n",
    "\n",
    "# Request reference data for the supported companies\n",
    "resp = client.get_api_metadata()\n",
    "resp = client.get_supported_companies(country='US', exchange='NYSE')\n",
    "\n",
    "# Usage history\n",
    "resp = client.get_usage()\n",
    "\n",
    "# Metric Metadata\n",
    "resp = client.get_available_metrics()\n",
    "\n",
    "# This property contains the raw form of the request object.\n",
    "resp\n",
    "\n"
   ]
  },
  {
   "cell_type": "code",
   "execution_count": 88,
   "id": "db35e685",
   "metadata": {},
   "outputs": [],
   "source": [
    "# list of minimum metrics I would need to do useful analysis:\n",
    "\n",
    "# Income statement\n",
    "\n",
    "income = ['revenue', 'cogs', 'gross_profit', 'sga', 'rnd', 'operating_income','income_tax', 'interest_expense','net_income', 'shares_diluted']\n",
    "\n",
    "# balance sheet\n",
    "\n",
    "balance = ['cash_and_equiv','receivables', 'inventories',\n",
    " 'total_current_assets','equity_and_other_investments','ppe_net',\n",
    " 'intangible_assets', 'goodwill','total_assets', 'accounts_payable',\n",
    " 'tax_payable', 'st_debt', 'total_current_liabilities', 'lt_debt',\n",
    " 'noncurrent_capital_leases',\n",
    " 'total_liabilities',\n",
    " 'retained_earnings',\n",
    " 'total_equity']\n",
    "\n",
    "# cashflow statement\n",
    "cashflow = ['cf_cfo', 'cfi_ppe_net', 'cfi_acquisitions_net', 'cfi_investment_net', 'cfi_intangibles_net','cff_common_stock_net', 'cff_debt_net', 'cff_dividend_paid', 'cf_cff']\n",
    "\n",
    "# price info\n",
    "price =  ['market_cap', 'period_end_price', 'name', 'period_end_date']\n",
    "\n",
    "metrics = income + balance + cashflow + price\n"
   ]
  },
  {
   "cell_type": "code",
   "execution_count": 25,
   "id": "bf2cd280",
   "metadata": {},
   "outputs": [
    {
     "name": "stdout",
     "output_type": "stream",
     "text": [
      "number of metrics: 39 \n",
      "companies to download per day: 12\n"
     ]
    }
   ],
   "source": [
    "# companies per day\n",
    "n_metrics = len(metrics )\n",
    "print('number of metrics:',n_metrics, '\\ncompanies to download per day:', 500 // n_metrics)\n"
   ]
  },
  {
   "cell_type": "code",
   "execution_count": 93,
   "id": "4ff23f78",
   "metadata": {},
   "outputs": [],
   "source": [
    "# example of 20 year data batch request\n",
    "data = client.get_data_batch(companies=['KO:US', 'PEP:US'], metrics=['revenue','cogs'], period=\"FY-20:FY\")\n"
   ]
  },
  {
   "cell_type": "code",
   "execution_count": 87,
   "id": "ebf8518d",
   "metadata": {},
   "outputs": [
    {
     "data": {
      "text/plain": [
       "array(['ASC:LN', 'BOO:LN', 'AMZN:US', 'COST:US', 'ZLNDY:US'], dtype=object)"
      ]
     },
     "execution_count": 87,
     "metadata": {},
     "output_type": "execute_result"
    }
   ],
   "source": [
    "# load tickers from csv\n",
    "\n",
    "ticker_path = Path(Path().absolute().parent, 'data', 'tickers.csv')\n",
    "ticker_path\n",
    "\n",
    "tickers = pd.read_csv(ticker_path).ticker.values\n",
    "tickers\n",
    "# [x for x in p.iterdir() if x.is_dir()]"
   ]
  },
  {
   "cell_type": "code",
   "execution_count": 132,
   "id": "e4ba26c2",
   "metadata": {},
   "outputs": [
    {
     "name": "stdout",
     "output_type": "stream",
     "text": [
      "<class 'pandas.core.frame.DataFrame'>\n",
      "Index: 5 entries, ASC:LN to ZLNDY:US\n",
      "Data columns (total 40 columns):\n",
      " #   Column                        Non-Null Count  Dtype \n",
      "---  ------                        --------------  ----- \n",
      " 0   revenue                       5 non-null      object\n",
      " 1   cogs                          5 non-null      object\n",
      " 2   gross_profit                  5 non-null      object\n",
      " 3   sga                           5 non-null      object\n",
      " 4   rnd                           5 non-null      object\n",
      " 5   operating_income              5 non-null      object\n",
      " 6   income_tax                    5 non-null      object\n",
      " 7   interest_expense              5 non-null      object\n",
      " 8   net_income                    5 non-null      object\n",
      " 9   shares_diluted                5 non-null      object\n",
      " 10  cash_and_equiv                5 non-null      object\n",
      " 11  receivables                   5 non-null      object\n",
      " 12  inventories                   5 non-null      object\n",
      " 13  total_current_assets          5 non-null      object\n",
      " 14  equity_and_other_investments  5 non-null      object\n",
      " 15  ppe_net                       5 non-null      object\n",
      " 16  intangible_assets             5 non-null      object\n",
      " 17  goodwill                      5 non-null      object\n",
      " 18  total_assets                  5 non-null      object\n",
      " 19  accounts_payable              5 non-null      object\n",
      " 20  tax_payable                   5 non-null      object\n",
      " 21  st_debt                       5 non-null      object\n",
      " 22  total_current_liabilities     5 non-null      object\n",
      " 23  lt_debt                       5 non-null      object\n",
      " 24  noncurrent_capital_leases     5 non-null      object\n",
      " 25  total_liabilities             5 non-null      object\n",
      " 26  retained_earnings             5 non-null      object\n",
      " 27  total_equity                  5 non-null      object\n",
      " 28  cf_cfo                        5 non-null      object\n",
      " 29  cfi_ppe_net                   5 non-null      object\n",
      " 30  cfi_acquisitions_net          5 non-null      object\n",
      " 31  cfi_investment_net            5 non-null      object\n",
      " 32  cfi_intangibles_net           5 non-null      object\n",
      " 33  cff_common_stock_net          5 non-null      object\n",
      " 34  cff_debt_net                  5 non-null      object\n",
      " 35  cff_dividend_paid             5 non-null      object\n",
      " 36  cf_cff                        5 non-null      object\n",
      " 37  market_cap                    5 non-null      object\n",
      " 38  period_end_price              5 non-null      object\n",
      " 39  period_end_date               5 non-null      object\n",
      "dtypes: object(40)\n",
      "memory usage: 1.6+ KB\n"
     ]
    }
   ],
   "source": [
    "# # example of data load and parse process\n",
    "\n",
    "# data = client.get_data_batch(companies=tickers, metrics=metrics, period=\"FY-20:FY\")\n",
    "\n",
    "# import json\n",
    "# import pandas as pd\n",
    "\n",
    "# type(data)\n",
    "\n",
    "# # j_data = json.loads(data)\n",
    "# df = pd.DataFrame.from_dict(data, orient='columns')\n",
    "\n",
    "# tdf = df\n",
    "# # metrics.remove('name')\n",
    "# tdf = tdf.drop(columns='name')\n",
    "# tdf = tdf.explode(metrics)\n",
    "\n",
    "# f_path = Path(Path().absolute().parent, 'data', 'financials.csv')\n",
    "# tdf.to_csv(f_path)\n",
    "\n",
    "tdf.info()"
   ]
  },
  {
   "cell_type": "code",
   "execution_count": null,
   "id": "3a24113c",
   "metadata": {},
   "outputs": [],
   "source": []
  }
 ],
 "metadata": {
  "kernelspec": {
   "display_name": "Python 3 (ipykernel)",
   "language": "python",
   "name": "python3"
  },
  "language_info": {
   "codemirror_mode": {
    "name": "ipython",
    "version": 3
   },
   "file_extension": ".py",
   "mimetype": "text/x-python",
   "name": "python",
   "nbconvert_exporter": "python",
   "pygments_lexer": "ipython3",
   "version": "3.9.12"
  }
 },
 "nbformat": 4,
 "nbformat_minor": 5
}
